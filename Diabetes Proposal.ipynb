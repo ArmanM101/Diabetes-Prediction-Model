{
 "cells": [
  {
   "cell_type": "code",
   "execution_count": 1,
   "id": "366a8d7c-090a-43a6-b407-cde1699c3e75",
   "metadata": {},
   "outputs": [
    {
     "name": "stderr",
     "output_type": "stream",
     "text": [
      "── \u001b[1mAttaching packages\u001b[22m ─────────────────────────────────────── tidyverse 1.3.1 ──\n",
      "\n",
      "\u001b[32m✔\u001b[39m \u001b[34mggplot2\u001b[39m 3.3.6     \u001b[32m✔\u001b[39m \u001b[34mpurrr  \u001b[39m 0.3.4\n",
      "\u001b[32m✔\u001b[39m \u001b[34mtibble \u001b[39m 3.1.7     \u001b[32m✔\u001b[39m \u001b[34mdplyr  \u001b[39m 1.0.9\n",
      "\u001b[32m✔\u001b[39m \u001b[34mtidyr  \u001b[39m 1.2.0     \u001b[32m✔\u001b[39m \u001b[34mstringr\u001b[39m 1.4.0\n",
      "\u001b[32m✔\u001b[39m \u001b[34mreadr  \u001b[39m 2.1.2     \u001b[32m✔\u001b[39m \u001b[34mforcats\u001b[39m 0.5.1\n",
      "\n",
      "── \u001b[1mConflicts\u001b[22m ────────────────────────────────────────── tidyverse_conflicts() ──\n",
      "\u001b[31m✖\u001b[39m \u001b[34mdplyr\u001b[39m::\u001b[32mfilter()\u001b[39m masks \u001b[34mstats\u001b[39m::filter()\n",
      "\u001b[31m✖\u001b[39m \u001b[34mdplyr\u001b[39m::\u001b[32mlag()\u001b[39m    masks \u001b[34mstats\u001b[39m::lag()\n",
      "\n",
      "── \u001b[1mAttaching packages\u001b[22m ────────────────────────────────────── tidymodels 1.0.0 ──\n",
      "\n",
      "\u001b[32m✔\u001b[39m \u001b[34mbroom       \u001b[39m 1.0.0     \u001b[32m✔\u001b[39m \u001b[34mrsample     \u001b[39m 1.0.0\n",
      "\u001b[32m✔\u001b[39m \u001b[34mdials       \u001b[39m 1.0.0     \u001b[32m✔\u001b[39m \u001b[34mtune        \u001b[39m 1.0.0\n",
      "\u001b[32m✔\u001b[39m \u001b[34minfer       \u001b[39m 1.0.2     \u001b[32m✔\u001b[39m \u001b[34mworkflows   \u001b[39m 1.0.0\n",
      "\u001b[32m✔\u001b[39m \u001b[34mmodeldata   \u001b[39m 1.0.0     \u001b[32m✔\u001b[39m \u001b[34mworkflowsets\u001b[39m 1.0.0\n",
      "\u001b[32m✔\u001b[39m \u001b[34mparsnip     \u001b[39m 1.0.0     \u001b[32m✔\u001b[39m \u001b[34myardstick   \u001b[39m 1.0.0\n",
      "\u001b[32m✔\u001b[39m \u001b[34mrecipes     \u001b[39m 1.0.1     \n",
      "\n",
      "── \u001b[1mConflicts\u001b[22m ───────────────────────────────────────── tidymodels_conflicts() ──\n",
      "\u001b[31m✖\u001b[39m \u001b[34mscales\u001b[39m::\u001b[32mdiscard()\u001b[39m masks \u001b[34mpurrr\u001b[39m::discard()\n",
      "\u001b[31m✖\u001b[39m \u001b[34mdplyr\u001b[39m::\u001b[32mfilter()\u001b[39m   masks \u001b[34mstats\u001b[39m::filter()\n",
      "\u001b[31m✖\u001b[39m \u001b[34mrecipes\u001b[39m::\u001b[32mfixed()\u001b[39m  masks \u001b[34mstringr\u001b[39m::fixed()\n",
      "\u001b[31m✖\u001b[39m \u001b[34mdplyr\u001b[39m::\u001b[32mlag()\u001b[39m      masks \u001b[34mstats\u001b[39m::lag()\n",
      "\u001b[31m✖\u001b[39m \u001b[34myardstick\u001b[39m::\u001b[32mspec()\u001b[39m masks \u001b[34mreadr\u001b[39m::spec()\n",
      "\u001b[31m✖\u001b[39m \u001b[34mrecipes\u001b[39m::\u001b[32mstep()\u001b[39m   masks \u001b[34mstats\u001b[39m::step()\n",
      "\u001b[34m•\u001b[39m Dig deeper into tidy modeling with R at \u001b[32mhttps://www.tmwr.org\u001b[39m\n",
      "\n"
     ]
    }
   ],
   "source": [
    "library(tidyverse)\n",
    "library(repr)\n",
    "library(tidymodels)\n",
    "options(repr.matrix.max.rows = 6)\n"
   ]
  },
  {
   "cell_type": "markdown",
   "id": "ac2e1dae-f727-4a27-b8fe-356cf7f2e29a",
   "metadata": {},
   "source": [
    "# Predicting Diabetes Prognosis"
   ]
  },
  {
   "cell_type": "markdown",
   "id": "9d92ced1-8fb4-410f-b991-4951b6601ec0",
   "metadata": {},
   "source": [
    "## Introduction:"
   ]
  },
  {
   "cell_type": "markdown",
   "id": "0cdbf076-6bba-49e8-ac2c-bc5382399342",
   "metadata": {
    "tags": []
   },
   "source": [
    "Diabetes is a medical condition in which a patient is unable to create enough insulin and therefore cannot efficiently transform glucose into energy for the body to properly utilize. According to the American Diabetes Organization, 11.3 percent of Americans are diagnosed with diabetes. This high percentage puts strain and pressure on the medical system in terms of treatment and diagnosis of this disease. With such a prevalence in the population, this leads us to our question: is it possible to create a classifier capable of accurately diagnosing diabetes based on the patient’s medical factors? To answer this question, we will be using the Pima Indians Diabetes Dataset. This dataset contains the health information of 768 women from Phoenix, Arizona. Diabetes was the variable that was tested in the dataset, along with multiple other health variables being previous pregnancies, Glucose tolerance (two hour plasma glucose concentration after 75g anhydrous glucose in mg/dl), blood pressure (Diastolic Blood Pressure in mmHg), skin thickness (Triceps skin fold thickness in mm), insulin (2 hr serum insulin in mu U/ml), BMI (Body Mass Index in kg/m2), the pedigree diabetes function, and age (years). "
   ]
  },
  {
   "cell_type": "markdown",
   "id": "6160c89d-1968-45b5-b343-256b73f52712",
   "metadata": {},
   "source": [
    "## Preliminary exploratory data analysis:"
   ]
  },
  {
   "cell_type": "markdown",
   "id": "aa935385-8e2a-4088-8a2c-a34804a0f373",
   "metadata": {},
   "source": [
    "##### Demonstrate that the dataset can be read from the web into R:"
   ]
  },
  {
   "cell_type": "code",
   "execution_count": 4,
   "id": "3d983306-ab5a-4121-9dcd-f66211221a48",
   "metadata": {},
   "outputs": [
    {
     "name": "stderr",
     "output_type": "stream",
     "text": [
      "\u001b[1mRows: \u001b[22m\u001b[34m768\u001b[39m \u001b[1mColumns: \u001b[22m\u001b[34m9\u001b[39m\n",
      "\u001b[36m──\u001b[39m \u001b[1mColumn specification\u001b[22m \u001b[36m────────────────────────────────────────────────────────\u001b[39m\n",
      "\u001b[1mDelimiter:\u001b[22m \",\"\n",
      "\u001b[32mdbl\u001b[39m (9): Pregnancies, Glucose, BloodPressure, SkinThickness, Insulin, BMI, D...\n",
      "\n",
      "\u001b[36mℹ\u001b[39m Use `spec()` to retrieve the full column specification for this data.\n",
      "\u001b[36mℹ\u001b[39m Specify the column types or set `show_col_types = FALSE` to quiet this message.\n"
     ]
    }
   ],
   "source": [
    "diabetes_data = read_csv(\"data/diabetes.csv\")\n"
   ]
  },
  {
   "cell_type": "markdown",
   "id": "0aed16b5-acdb-4141-96d1-48c208414a3a",
   "metadata": {},
   "source": [
    "##### Clean and wrangle your data into a tidy format:"
   ]
  },
  {
   "cell_type": "code",
   "execution_count": 28,
   "id": "6af24cc0-4a9e-4164-8976-a49f0a442d96",
   "metadata": {},
   "outputs": [
    {
     "data": {
      "text/html": [
       "<table class=\"dataframe\">\n",
       "<caption>A tibble: 768 × 9</caption>\n",
       "<thead>\n",
       "\t<tr><th scope=col>Pregnancies</th><th scope=col>Glucose</th><th scope=col>BloodPressure</th><th scope=col>SkinThickness</th><th scope=col>Insulin</th><th scope=col>BMI</th><th scope=col>DiabetesPedigreeFunction</th><th scope=col>Age</th><th scope=col>Outcome</th></tr>\n",
       "\t<tr><th scope=col>&lt;dbl&gt;</th><th scope=col>&lt;dbl&gt;</th><th scope=col>&lt;dbl&gt;</th><th scope=col>&lt;dbl&gt;</th><th scope=col>&lt;dbl&gt;</th><th scope=col>&lt;dbl&gt;</th><th scope=col>&lt;dbl&gt;</th><th scope=col>&lt;dbl&gt;</th><th scope=col>&lt;fct&gt;</th></tr>\n",
       "</thead>\n",
       "<tbody>\n",
       "\t<tr><td>6</td><td>148</td><td>72</td><td>35</td><td>0</td><td>33.6</td><td>0.627</td><td>50</td><td>1</td></tr>\n",
       "\t<tr><td>1</td><td> 85</td><td>66</td><td>29</td><td>0</td><td>26.6</td><td>0.351</td><td>31</td><td>0</td></tr>\n",
       "\t<tr><td>8</td><td>183</td><td>64</td><td> 0</td><td>0</td><td>23.3</td><td>0.672</td><td>32</td><td>1</td></tr>\n",
       "\t<tr><td>⋮</td><td>⋮</td><td>⋮</td><td>⋮</td><td>⋮</td><td>⋮</td><td>⋮</td><td>⋮</td><td>⋮</td></tr>\n",
       "\t<tr><td>5</td><td>121</td><td>72</td><td>23</td><td>112</td><td>26.2</td><td>0.245</td><td>30</td><td>0</td></tr>\n",
       "\t<tr><td>1</td><td>126</td><td>60</td><td> 0</td><td>  0</td><td>30.1</td><td>0.349</td><td>47</td><td>1</td></tr>\n",
       "\t<tr><td>1</td><td> 93</td><td>70</td><td>31</td><td>  0</td><td>30.4</td><td>0.315</td><td>23</td><td>0</td></tr>\n",
       "</tbody>\n",
       "</table>\n"
      ],
      "text/latex": [
       "A tibble: 768 × 9\n",
       "\\begin{tabular}{lllllllll}\n",
       " Pregnancies & Glucose & BloodPressure & SkinThickness & Insulin & BMI & DiabetesPedigreeFunction & Age & Outcome\\\\\n",
       " <dbl> & <dbl> & <dbl> & <dbl> & <dbl> & <dbl> & <dbl> & <dbl> & <fct>\\\\\n",
       "\\hline\n",
       "\t 6 & 148 & 72 & 35 & 0 & 33.6 & 0.627 & 50 & 1\\\\\n",
       "\t 1 &  85 & 66 & 29 & 0 & 26.6 & 0.351 & 31 & 0\\\\\n",
       "\t 8 & 183 & 64 &  0 & 0 & 23.3 & 0.672 & 32 & 1\\\\\n",
       "\t ⋮ & ⋮ & ⋮ & ⋮ & ⋮ & ⋮ & ⋮ & ⋮ & ⋮\\\\\n",
       "\t 5 & 121 & 72 & 23 & 112 & 26.2 & 0.245 & 30 & 0\\\\\n",
       "\t 1 & 126 & 60 &  0 &   0 & 30.1 & 0.349 & 47 & 1\\\\\n",
       "\t 1 &  93 & 70 & 31 &   0 & 30.4 & 0.315 & 23 & 0\\\\\n",
       "\\end{tabular}\n"
      ],
      "text/markdown": [
       "\n",
       "A tibble: 768 × 9\n",
       "\n",
       "| Pregnancies &lt;dbl&gt; | Glucose &lt;dbl&gt; | BloodPressure &lt;dbl&gt; | SkinThickness &lt;dbl&gt; | Insulin &lt;dbl&gt; | BMI &lt;dbl&gt; | DiabetesPedigreeFunction &lt;dbl&gt; | Age &lt;dbl&gt; | Outcome &lt;fct&gt; |\n",
       "|---|---|---|---|---|---|---|---|---|\n",
       "| 6 | 148 | 72 | 35 | 0 | 33.6 | 0.627 | 50 | 1 |\n",
       "| 1 |  85 | 66 | 29 | 0 | 26.6 | 0.351 | 31 | 0 |\n",
       "| 8 | 183 | 64 |  0 | 0 | 23.3 | 0.672 | 32 | 1 |\n",
       "| ⋮ | ⋮ | ⋮ | ⋮ | ⋮ | ⋮ | ⋮ | ⋮ | ⋮ |\n",
       "| 5 | 121 | 72 | 23 | 112 | 26.2 | 0.245 | 30 | 0 |\n",
       "| 1 | 126 | 60 |  0 |   0 | 30.1 | 0.349 | 47 | 1 |\n",
       "| 1 |  93 | 70 | 31 |   0 | 30.4 | 0.315 | 23 | 0 |\n",
       "\n"
      ],
      "text/plain": [
       "    Pregnancies Glucose BloodPressure SkinThickness Insulin BMI \n",
       "1   6           148     72            35            0       33.6\n",
       "2   1            85     66            29            0       26.6\n",
       "3   8           183     64             0            0       23.3\n",
       "⋮   ⋮           ⋮       ⋮             ⋮             ⋮       ⋮   \n",
       "766 5           121     72            23            112     26.2\n",
       "767 1           126     60             0              0     30.1\n",
       "768 1            93     70            31              0     30.4\n",
       "    DiabetesPedigreeFunction Age Outcome\n",
       "1   0.627                    50  1      \n",
       "2   0.351                    31  0      \n",
       "3   0.672                    32  1      \n",
       "⋮   ⋮                        ⋮   ⋮      \n",
       "766 0.245                    30  0      \n",
       "767 0.349                    47  1      \n",
       "768 0.315                    23  0      "
      ]
     },
     "metadata": {},
     "output_type": "display_data"
    }
   ],
   "source": [
    "diabetes_mutant = diabetes_data |> \n",
    "    mutate(Outcome = as_factor(Outcome))\n",
    "        \n",
    "diabetes_mutant\n",
    "#For our intents and purposes, this is the tidiest data with each medical \n",
    "#factor being it's own column"
   ]
  },
  {
   "cell_type": "markdown",
   "id": "08f87413-6acc-48a6-a85f-0e3a8788de92",
   "metadata": {},
   "source": [
    "##### Using only training data, summarize the data in at least one table (this is exploratory data analysis):\n",
    "##### Using only training data, visualize the data with at least one plot relevant to the analysis you plan to do (this is exploratory data analysis):"
   ]
  },
  {
   "cell_type": "code",
   "execution_count": 32,
   "id": "c0ffde4a-3ab6-41c3-9797-2b5379f8a9f2",
   "metadata": {},
   "outputs": [
    {
     "data": {
      "text/html": [
       "<table class=\"dataframe\">\n",
       "<caption>A tibble: 2 × 3</caption>\n",
       "<thead>\n",
       "\t<tr><th scope=col>Outcome</th><th scope=col>Median Insulin</th><th scope=col>Mean Insulin</th></tr>\n",
       "\t<tr><th scope=col>&lt;fct&gt;</th><th scope=col>&lt;dbl&gt;</th><th scope=col>&lt;dbl&gt;</th></tr>\n",
       "</thead>\n",
       "<tbody>\n",
       "\t<tr><td>0</td><td>39</td><td> 68.7920</td></tr>\n",
       "\t<tr><td>1</td><td> 0</td><td>100.3358</td></tr>\n",
       "</tbody>\n",
       "</table>\n"
      ],
      "text/latex": [
       "A tibble: 2 × 3\n",
       "\\begin{tabular}{lll}\n",
       " Outcome & Median Insulin & Mean Insulin\\\\\n",
       " <fct> & <dbl> & <dbl>\\\\\n",
       "\\hline\n",
       "\t 0 & 39 &  68.7920\\\\\n",
       "\t 1 &  0 & 100.3358\\\\\n",
       "\\end{tabular}\n"
      ],
      "text/markdown": [
       "\n",
       "A tibble: 2 × 3\n",
       "\n",
       "| Outcome &lt;fct&gt; | Median Insulin &lt;dbl&gt; | Mean Insulin &lt;dbl&gt; |\n",
       "|---|---|---|\n",
       "| 0 | 39 |  68.7920 |\n",
       "| 1 |  0 | 100.3358 |\n",
       "\n"
      ],
      "text/plain": [
       "  Outcome Median Insulin Mean Insulin\n",
       "1 0       39              68.7920    \n",
       "2 1        0             100.3358    "
      ]
     },
     "metadata": {},
     "output_type": "display_data"
    },
    {
     "name": "stderr",
     "output_type": "stream",
     "text": [
      "`stat_bin()` using `bins = 30`. Pick better value with `binwidth`.\n",
      "\n"
     ]
    },
    {
     "data": {
      "image/png": "[encoded data removed]",
      "text/plain": [
       "plot without title"
      ]
     },
     "metadata": {
      "image/png": {
       "height": 420,
       "width": 420
      }
     },
     "output_type": "display_data"
    }
   ],
   "source": [
    "Insulin_summarized <- diabetes_mutant |>\n",
    "group_by(Outcome) |>\n",
    "summarize(\"Median Insulin\" = median(Insulin),\n",
    "         \"Mean Insulin\" = mean(Insulin))\n",
    "Insulin_summarized\n",
    "Insulin_visulized <- diabetes_mutant |>\n",
    "select(Insulin, Outcome) |>\n",
    "ggplot(aes(x = Insulin, fill = Outcome)) +\n",
    "geom_histogram() +\n",
    "labs(x = \"Insulin Level in mu U/ml\", y = \"Number of Patients\", fill = \"Diabetes\", title = \"Histogram of Insulin Levels\") +\n",
    "theme(text = element_text(size = 20)) +\n",
    "stat_bin(bins = 10)\n",
    "Insulin_visulized\n"
   ]
  },
  {
   "cell_type": "markdown",
   "id": "1399b576-a1a5-4e59-8cff-0f63a5470cf5",
   "metadata": {},
   "source": [
    "The distibution of insulin levels of those with diabetes seems to be heavily skewed right. In addition, the distribution of insulin levels of those without diabetes seems to be heavily skewed right."
   ]
  },
  {
   "cell_type": "code",
   "execution_count": 38,
   "id": "b21c6af4-c011-43f4-8d72-8c3db9a95e47",
   "metadata": {},
   "outputs": [
    {
     "data": {
      "text/html": [
       "<table class=\"dataframe\">\n",
       "<caption>A tibble: 2 × 1</caption>\n",
       "<thead>\n",
       "\t<tr><th scope=col>Age Range of Those With Diabetes</th></tr>\n",
       "\t<tr><th scope=col>&lt;dbl&gt;</th></tr>\n",
       "</thead>\n",
       "<tbody>\n",
       "\t<tr><td>21</td></tr>\n",
       "\t<tr><td>70</td></tr>\n",
       "</tbody>\n",
       "</table>\n"
      ],
      "text/latex": [
       "A tibble: 2 × 1\n",
       "\\begin{tabular}{l}\n",
       " Age Range of Those With Diabetes\\\\\n",
       " <dbl>\\\\\n",
       "\\hline\n",
       "\t 21\\\\\n",
       "\t 70\\\\\n",
       "\\end{tabular}\n"
      ],
      "text/markdown": [
       "\n",
       "A tibble: 2 × 1\n",
       "\n",
       "| Age Range of Those With Diabetes &lt;dbl&gt; |\n",
       "|---|\n",
       "| 21 |\n",
       "| 70 |\n",
       "\n"
      ],
      "text/plain": [
       "  Age Range of Those With Diabetes\n",
       "1 21                              \n",
       "2 70                              "
      ]
     },
     "metadata": {},
     "output_type": "display_data"
    },
    {
     "name": "stderr",
     "output_type": "stream",
     "text": [
      "`stat_bin()` using `bins = 30`. Pick better value with `binwidth`.\n",
      "\n"
     ]
    },
    {
     "data": {
      "image/png": "[encoded data removed]",
      "text/plain": [
       "plot without title"
      ]
     },
     "metadata": {
      "image/png": {
       "height": 420,
       "width": 420
      }
     },
     "output_type": "display_data"
    }
   ],
   "source": [
    "Age_summarized <- diabetes_mutant |>\n",
    "filter(Outcome == 1) |>\n",
    "summarize(\"Age Range of Those With Diabetes\" = range(Age))\n",
    "Age_summarized\n",
    "\n",
    "Age_visulized <- diabetes_mutant |>\n",
    "select(Age, Outcome) |>\n",
    "filter(Outcome == 1) |>\n",
    "ggplot(aes(x = Age)) +\n",
    "geom_histogram() +\n",
    "labs(x = \"Age\", y = \"Number of Patients\", title = \"Age Range of Those With Diabetes\") +\n",
    "theme(text = element_text(size = 20)) +\n",
    "stat_bin(bins = 30)\n",
    "Age_visulized"
   ]
  },
  {
   "cell_type": "markdown",
   "id": "4ff4cd46-22e9-46a0-a89b-33983e38e116",
   "metadata": {},
   "source": [
    "The fact that there is a wide range of age for those with diabetes makes sense because there are patients with type 1 diabetes, which means they were born with it."
   ]
  },
  {
   "cell_type": "markdown",
   "id": "01975a09-7f0e-4ba0-b5aa-6818c9723031",
   "metadata": {},
   "source": [
    "## Methods"
   ]
  },
  {
   "cell_type": "markdown",
   "id": "b9a0c084-ca3c-448a-940e-9fe9a771467d",
   "metadata": {
    "tags": []
   },
   "source": [
    "##### Explain how you will conduct either your data analysis and which variables/columns you will use:"
   ]
  },
  {
   "cell_type": "markdown",
   "id": "9820e1f5-4e71-4b5c-9a59-c1af887192e7",
   "metadata": {},
   "source": [
    "\n",
    "\n",
    "We intend to use the method of classification to determine if it is possible to predict whether or not a person is diabetic, based on medical aspects using the Pima Indians Diabetes Dataset. First we intend to split the dataset into a training and testing set with a ratio of 75:25 respectively. We will use the training set to build our classifier and the testing set to determine how accurate its predictions are. The dataset columns that we will use as predictors for our classifier are BMI, age and insulin levels. \n",
    "We will first visualize our results by adding a column of the classifier’s predictions to the testing set. We will then use the metric function to determine if the classifier is accurate enough to be used. A low accuracy could lead to a potential of delayed treatment of diabetic patients and healthy individuals receiving unnecessary medical care.\n"
   ]
  },
  {
   "cell_type": "markdown",
   "id": "7385adec-ba22-4f88-a16a-3d29de368e13",
   "metadata": {},
   "source": [
    "# Expected outcomes and significance"
   ]
  },
  {
   "cell_type": "markdown",
   "id": "99779be3-047c-493a-a2c4-629793542e33",
   "metadata": {},
   "source": [
    "Ageing is associated with a reduction in insulin secretion. A reduction in insulin secretion causes a rise in blood glucose levels (hyperglycemia), therefore increasing the possibility of getting type 2 diabetes. For individuals with a high BMI, substances in the body  that are involved in the development of insulin resistance are increased causing increased probability of obtaining diabetes. Therefore we expect individuals with high insulin levels, higher age, and greater bmi to have a prognosis of diabetes. By effectively predicting the prognosis, medical professionals are able to prescribe medication such as Rosiglitazone (Avandia), a drug used to reduce insulin levels, or medication to reduce BMI levels such as Bupropion-naltrexone (Contrave). Furthermore, by patients seeing their prognosis of diabetes, it may strongly encourage a change to a more healthy-lifestyle, reducing the likelihood of obtaining other diseases as well. 50% of type 2 diabetes can be prevented or delayed suggesting that an effective prognosis would certainly contribute to a healthier society. Though our machine learning project only touches on diabetes, could machine learning be applicable to other medical prognosis such as for cancer? The majority of research relating machine learning and cancer are primarily related to distinguishing whether or not a tumour is malignant or benign based on factors such as symmetry and size, however there is limited analysis on prognosis of cancer based on an individuals health data. Effective applications of machine learning in certain diseases like diabetes could also be used for cancer treatment and could have the potential for saving lives."
   ]
  }
 ],
 "metadata": {
  "kernelspec": {
   "display_name": "R",
   "language": "R",
   "name": "ir"
  },
  "language_info": {
   "codemirror_mode": "r",
   "file_extension": ".r",
   "mimetype": "text/x-r-source",
   "name": "R",
   "pygments_lexer": "r",
   "version": "4.1.3"
  }
 },
 "nbformat": 4,
 "nbformat_minor": 5
}
