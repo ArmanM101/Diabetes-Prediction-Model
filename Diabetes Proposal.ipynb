{
 "cells": [
  {
   "cell_type": "markdown",
   "id": "ac2e1dae-f727-4a27-b8fe-356cf7f2e29a",
   "metadata": {},
   "source": [
    "# Predicting Diabetes Prognosis"
   ]
  },
  {
   "cell_type": "markdown",
   "id": "9d92ced1-8fb4-410f-b991-4951b6601ec0",
   "metadata": {},
   "source": [
    "## Introduction:"
   ]
  },
  {
   "cell_type": "markdown",
   "id": "0cdbf076-6bba-49e8-ac2c-bc5382399342",
   "metadata": {
    "tags": []
   },
   "source": [
    "Diabetes is a medical condition where the afflicted body is unable to create enough insulin to efficiently transform glucose into energy for the body's utilization. If left undiagnosed and untreated, diabetes can inflict serious harm to a person's heart and blood vessels, eyes, kidneys, nerves, gastrointestinal tract, and gums and teeth. Given the health risks of untreated diabetes, it is imperative that medical professionals have a method of diagnosing the condition as soon as possible. This lead us to our question: *Is it possible to diagnose diabetes in patients based on their medical factors? If so, what medical factors should we use to create the most accuracte predictive model?* To answer these questions, this project intends to create a k-nn classifier model that can predict whether or not a person is diabetic based on their medical factors. The data set that we will use to create this classifier is the Pima Indians Diabetes Dataset, which we obtained from https://github.com/npradaschnor/Pima-Indians-Diabetes-Dataset/blob/master/diabetes.csv. This dataset contains the health information of 768 women from Phoenix, Arizona. \n",
    "\n",
    "The dataset contains 9 columns:\n",
    "1) Outcome (1 is diabetic, 0 is not diabetic)\n",
    "2) Number of pregnancies\n",
    "3) Glucose tolerance (Two hour plasma glucose concentration after 75g anhydrous glucose in mg/dl)\n",
    "4) Blood pressure (Diastolic BP in mmHg)\n",
    "5) Skin thickness (Triceps skin fold thickness in mm)\n",
    "6) Insulin (2 hour serum insulin in mu U/ml)\n",
    "7) BMI (Body Mass Index)\n",
    "8) Pedigree diabetes function (A function that extrapolates the likelyhood of the onset of    diabetes based on ancestry)\n",
    "9) Age (Years)\n",
    "\n",
    "For our classifier, a diabetes diagnosis (\"Outcome\") will be the target variable and we will choose the predictor variables using forward selection to ensure that we are using the combination of predictor variables that yields the best prediction accuracy."
   ]
  },
  {
   "cell_type": "markdown",
   "id": "139063fe-10cd-485d-a56f-ba157350d14e",
   "metadata": {},
   "source": [
    "## Methods and Results"
   ]
  },
  {
   "cell_type": "markdown",
   "id": "e46fc8c6-d186-49de-9b3b-0e613b29d69d",
   "metadata": {},
   "source": [
    "### Our Process"
   ]
  },
  {
   "cell_type": "markdown",
   "id": "1acc54df-a5d5-4528-8772-db8e108967b1",
   "metadata": {},
   "source": [
    "Below is an overview of our data analysis process (a more detailed explaination will be provided at each step)\n",
    "1) Read and Wrangle the dataset into a tidy dataset.\n",
    "2) Split the tidy dataset into a training and testing set. \n",
    "3) Use forward selection to find the combination of predictor variables with the highest prediction accuracy. \n",
    "4) Perform k-nearest neighbor classification with the best value of k found using cross-validation and predict the test set to get the final model accuracy validation.\n",
    "5) Describe our results and conclusion."
   ]
  },
  {
   "cell_type": "markdown",
   "id": "e0e5f74d-41f9-4790-acc2-b28c91efbe13",
   "metadata": {},
   "source": [
    "### Loading Relevant Libraries"
   ]
  },
  {
   "cell_type": "code",
   "execution_count": 15,
   "id": "366a8d7c-090a-43a6-b407-cde1699c3e75",
   "metadata": {},
   "outputs": [],
   "source": [
    "#RUN THIS CELL \n",
    "library(tidyverse)\n",
    "library(tidymodels)\n",
    "library(forcats)\n",
    "library(RColorBrewer)\n",
    "library(repr)\n",
    "library(ggplot2)\n",
    "library(knitr)\n",
    "options(repr.matrix.max.rows = 20)"
   ]
  },
  {
   "cell_type": "markdown",
   "id": "6160c89d-1968-45b5-b343-256b73f52712",
   "metadata": {},
   "source": [
    "### Read and wrangle the dataset from the web into jupyter as a tidy dataset"
   ]
  },
  {
   "cell_type": "markdown",
   "id": "26081f4a-d596-4d38-9046-3e15bcb00fe6",
   "metadata": {},
   "source": [
    "* We bring the data set from the web into Jupyter using <code>read_csv()</code>. \n",
    "* The Outcome column will be our target variable so we make it into a factor variable using <code>as_factor()</code>.\n",
    "* The resulting dataset is our wrangled <code>diabetes_data</code> with 768 usable observations."
   ]
  },
  {
   "cell_type": "code",
   "execution_count": 16,
   "id": "3d983306-ab5a-4121-9dcd-f66211221a48",
   "metadata": {},
   "outputs": [
    {
     "name": "stderr",
     "output_type": "stream",
     "text": [
      "\u001b[1mRows: \u001b[22m\u001b[34m768\u001b[39m \u001b[1mColumns: \u001b[22m\u001b[34m9\u001b[39m\n",
      "\u001b[36m──\u001b[39m \u001b[1mColumn specification\u001b[22m \u001b[36m────────────────────────────────────────────────────────\u001b[39m\n",
      "\u001b[1mDelimiter:\u001b[22m \",\"\n",
      "\u001b[32mdbl\u001b[39m (9): Pregnancies, Glucose, BloodPressure, SkinThickness, Insulin, BMI, D...\n",
      "\n",
      "\u001b[36mℹ\u001b[39m Use `spec()` to retrieve the full column specification for this data.\n",
      "\u001b[36mℹ\u001b[39m Specify the column types or set `show_col_types = FALSE` to quiet this message.\n"
     ]
    },
    {
     "data": {
      "text/html": [
       "<table class=\"dataframe\">\n",
       "<caption>A tibble: 768 × 9</caption>\n",
       "<thead>\n",
       "\t<tr><th scope=col>Pregnancies</th><th scope=col>Glucose</th><th scope=col>BloodPressure</th><th scope=col>SkinThickness</th><th scope=col>Insulin</th><th scope=col>BMI</th><th scope=col>DiabetesPedigreeFunction</th><th scope=col>Age</th><th scope=col>Outcome</th></tr>\n",
       "\t<tr><th scope=col>&lt;dbl&gt;</th><th scope=col>&lt;dbl&gt;</th><th scope=col>&lt;dbl&gt;</th><th scope=col>&lt;dbl&gt;</th><th scope=col>&lt;dbl&gt;</th><th scope=col>&lt;dbl&gt;</th><th scope=col>&lt;dbl&gt;</th><th scope=col>&lt;dbl&gt;</th><th scope=col>&lt;fct&gt;</th></tr>\n",
       "</thead>\n",
       "<tbody>\n",
       "\t<tr><td> 6</td><td>148</td><td>72</td><td>35</td><td>  0</td><td>33.6</td><td>0.627</td><td>50</td><td>1</td></tr>\n",
       "\t<tr><td> 1</td><td> 85</td><td>66</td><td>29</td><td>  0</td><td>26.6</td><td>0.351</td><td>31</td><td>0</td></tr>\n",
       "\t<tr><td> 8</td><td>183</td><td>64</td><td> 0</td><td>  0</td><td>23.3</td><td>0.672</td><td>32</td><td>1</td></tr>\n",
       "\t<tr><td> 1</td><td> 89</td><td>66</td><td>23</td><td> 94</td><td>28.1</td><td>0.167</td><td>21</td><td>0</td></tr>\n",
       "\t<tr><td> 0</td><td>137</td><td>40</td><td>35</td><td>168</td><td>43.1</td><td>2.288</td><td>33</td><td>1</td></tr>\n",
       "\t<tr><td> 5</td><td>116</td><td>74</td><td> 0</td><td>  0</td><td>25.6</td><td>0.201</td><td>30</td><td>0</td></tr>\n",
       "\t<tr><td> 3</td><td> 78</td><td>50</td><td>32</td><td> 88</td><td>31.0</td><td>0.248</td><td>26</td><td>1</td></tr>\n",
       "\t<tr><td>10</td><td>115</td><td> 0</td><td> 0</td><td>  0</td><td>35.3</td><td>0.134</td><td>29</td><td>0</td></tr>\n",
       "\t<tr><td> 2</td><td>197</td><td>70</td><td>45</td><td>543</td><td>30.5</td><td>0.158</td><td>53</td><td>1</td></tr>\n",
       "\t<tr><td> 8</td><td>125</td><td>96</td><td> 0</td><td>  0</td><td> 0.0</td><td>0.232</td><td>54</td><td>1</td></tr>\n",
       "\t<tr><td>⋮</td><td>⋮</td><td>⋮</td><td>⋮</td><td>⋮</td><td>⋮</td><td>⋮</td><td>⋮</td><td>⋮</td></tr>\n",
       "\t<tr><td> 1</td><td>106</td><td>76</td><td> 0</td><td>  0</td><td>37.5</td><td>0.197</td><td>26</td><td>0</td></tr>\n",
       "\t<tr><td> 6</td><td>190</td><td>92</td><td> 0</td><td>  0</td><td>35.5</td><td>0.278</td><td>66</td><td>1</td></tr>\n",
       "\t<tr><td> 2</td><td> 88</td><td>58</td><td>26</td><td> 16</td><td>28.4</td><td>0.766</td><td>22</td><td>0</td></tr>\n",
       "\t<tr><td> 9</td><td>170</td><td>74</td><td>31</td><td>  0</td><td>44.0</td><td>0.403</td><td>43</td><td>1</td></tr>\n",
       "\t<tr><td> 9</td><td> 89</td><td>62</td><td> 0</td><td>  0</td><td>22.5</td><td>0.142</td><td>33</td><td>0</td></tr>\n",
       "\t<tr><td>10</td><td>101</td><td>76</td><td>48</td><td>180</td><td>32.9</td><td>0.171</td><td>63</td><td>0</td></tr>\n",
       "\t<tr><td> 2</td><td>122</td><td>70</td><td>27</td><td>  0</td><td>36.8</td><td>0.340</td><td>27</td><td>0</td></tr>\n",
       "\t<tr><td> 5</td><td>121</td><td>72</td><td>23</td><td>112</td><td>26.2</td><td>0.245</td><td>30</td><td>0</td></tr>\n",
       "\t<tr><td> 1</td><td>126</td><td>60</td><td> 0</td><td>  0</td><td>30.1</td><td>0.349</td><td>47</td><td>1</td></tr>\n",
       "\t<tr><td> 1</td><td> 93</td><td>70</td><td>31</td><td>  0</td><td>30.4</td><td>0.315</td><td>23</td><td>0</td></tr>\n",
       "</tbody>\n",
       "</table>\n"
      ],
      "text/latex": [
       "A tibble: 768 × 9\n",
       "\\begin{tabular}{lllllllll}\n",
       " Pregnancies & Glucose & BloodPressure & SkinThickness & Insulin & BMI & DiabetesPedigreeFunction & Age & Outcome\\\\\n",
       " <dbl> & <dbl> & <dbl> & <dbl> & <dbl> & <dbl> & <dbl> & <dbl> & <fct>\\\\\n",
       "\\hline\n",
       "\t  6 & 148 & 72 & 35 &   0 & 33.6 & 0.627 & 50 & 1\\\\\n",
       "\t  1 &  85 & 66 & 29 &   0 & 26.6 & 0.351 & 31 & 0\\\\\n",
       "\t  8 & 183 & 64 &  0 &   0 & 23.3 & 0.672 & 32 & 1\\\\\n",
       "\t  1 &  89 & 66 & 23 &  94 & 28.1 & 0.167 & 21 & 0\\\\\n",
       "\t  0 & 137 & 40 & 35 & 168 & 43.1 & 2.288 & 33 & 1\\\\\n",
       "\t  5 & 116 & 74 &  0 &   0 & 25.6 & 0.201 & 30 & 0\\\\\n",
       "\t  3 &  78 & 50 & 32 &  88 & 31.0 & 0.248 & 26 & 1\\\\\n",
       "\t 10 & 115 &  0 &  0 &   0 & 35.3 & 0.134 & 29 & 0\\\\\n",
       "\t  2 & 197 & 70 & 45 & 543 & 30.5 & 0.158 & 53 & 1\\\\\n",
       "\t  8 & 125 & 96 &  0 &   0 &  0.0 & 0.232 & 54 & 1\\\\\n",
       "\t ⋮ & ⋮ & ⋮ & ⋮ & ⋮ & ⋮ & ⋮ & ⋮ & ⋮\\\\\n",
       "\t  1 & 106 & 76 &  0 &   0 & 37.5 & 0.197 & 26 & 0\\\\\n",
       "\t  6 & 190 & 92 &  0 &   0 & 35.5 & 0.278 & 66 & 1\\\\\n",
       "\t  2 &  88 & 58 & 26 &  16 & 28.4 & 0.766 & 22 & 0\\\\\n",
       "\t  9 & 170 & 74 & 31 &   0 & 44.0 & 0.403 & 43 & 1\\\\\n",
       "\t  9 &  89 & 62 &  0 &   0 & 22.5 & 0.142 & 33 & 0\\\\\n",
       "\t 10 & 101 & 76 & 48 & 180 & 32.9 & 0.171 & 63 & 0\\\\\n",
       "\t  2 & 122 & 70 & 27 &   0 & 36.8 & 0.340 & 27 & 0\\\\\n",
       "\t  5 & 121 & 72 & 23 & 112 & 26.2 & 0.245 & 30 & 0\\\\\n",
       "\t  1 & 126 & 60 &  0 &   0 & 30.1 & 0.349 & 47 & 1\\\\\n",
       "\t  1 &  93 & 70 & 31 &   0 & 30.4 & 0.315 & 23 & 0\\\\\n",
       "\\end{tabular}\n"
      ],
      "text/markdown": [
       "\n",
       "A tibble: 768 × 9\n",
       "\n",
       "| Pregnancies &lt;dbl&gt; | Glucose &lt;dbl&gt; | BloodPressure &lt;dbl&gt; | SkinThickness &lt;dbl&gt; | Insulin &lt;dbl&gt; | BMI &lt;dbl&gt; | DiabetesPedigreeFunction &lt;dbl&gt; | Age &lt;dbl&gt; | Outcome &lt;fct&gt; |\n",
       "|---|---|---|---|---|---|---|---|---|\n",
       "|  6 | 148 | 72 | 35 |   0 | 33.6 | 0.627 | 50 | 1 |\n",
       "|  1 |  85 | 66 | 29 |   0 | 26.6 | 0.351 | 31 | 0 |\n",
       "|  8 | 183 | 64 |  0 |   0 | 23.3 | 0.672 | 32 | 1 |\n",
       "|  1 |  89 | 66 | 23 |  94 | 28.1 | 0.167 | 21 | 0 |\n",
       "|  0 | 137 | 40 | 35 | 168 | 43.1 | 2.288 | 33 | 1 |\n",
       "|  5 | 116 | 74 |  0 |   0 | 25.6 | 0.201 | 30 | 0 |\n",
       "|  3 |  78 | 50 | 32 |  88 | 31.0 | 0.248 | 26 | 1 |\n",
       "| 10 | 115 |  0 |  0 |   0 | 35.3 | 0.134 | 29 | 0 |\n",
       "|  2 | 197 | 70 | 45 | 543 | 30.5 | 0.158 | 53 | 1 |\n",
       "|  8 | 125 | 96 |  0 |   0 |  0.0 | 0.232 | 54 | 1 |\n",
       "| ⋮ | ⋮ | ⋮ | ⋮ | ⋮ | ⋮ | ⋮ | ⋮ | ⋮ |\n",
       "|  1 | 106 | 76 |  0 |   0 | 37.5 | 0.197 | 26 | 0 |\n",
       "|  6 | 190 | 92 |  0 |   0 | 35.5 | 0.278 | 66 | 1 |\n",
       "|  2 |  88 | 58 | 26 |  16 | 28.4 | 0.766 | 22 | 0 |\n",
       "|  9 | 170 | 74 | 31 |   0 | 44.0 | 0.403 | 43 | 1 |\n",
       "|  9 |  89 | 62 |  0 |   0 | 22.5 | 0.142 | 33 | 0 |\n",
       "| 10 | 101 | 76 | 48 | 180 | 32.9 | 0.171 | 63 | 0 |\n",
       "|  2 | 122 | 70 | 27 |   0 | 36.8 | 0.340 | 27 | 0 |\n",
       "|  5 | 121 | 72 | 23 | 112 | 26.2 | 0.245 | 30 | 0 |\n",
       "|  1 | 126 | 60 |  0 |   0 | 30.1 | 0.349 | 47 | 1 |\n",
       "|  1 |  93 | 70 | 31 |   0 | 30.4 | 0.315 | 23 | 0 |\n",
       "\n"
      ],
      "text/plain": [
       "    Pregnancies Glucose BloodPressure SkinThickness Insulin BMI \n",
       "1    6          148     72            35              0     33.6\n",
       "2    1           85     66            29              0     26.6\n",
       "3    8          183     64             0              0     23.3\n",
       "4    1           89     66            23             94     28.1\n",
       "5    0          137     40            35            168     43.1\n",
       "6    5          116     74             0              0     25.6\n",
       "7    3           78     50            32             88     31.0\n",
       "8   10          115      0             0              0     35.3\n",
       "9    2          197     70            45            543     30.5\n",
       "10   8          125     96             0              0      0.0\n",
       "⋮   ⋮           ⋮       ⋮             ⋮             ⋮       ⋮   \n",
       "759  1          106     76             0              0     37.5\n",
       "760  6          190     92             0              0     35.5\n",
       "761  2           88     58            26             16     28.4\n",
       "762  9          170     74            31              0     44.0\n",
       "763  9           89     62             0              0     22.5\n",
       "764 10          101     76            48            180     32.9\n",
       "765  2          122     70            27              0     36.8\n",
       "766  5          121     72            23            112     26.2\n",
       "767  1          126     60             0              0     30.1\n",
       "768  1           93     70            31              0     30.4\n",
       "    DiabetesPedigreeFunction Age Outcome\n",
       "1   0.627                    50  1      \n",
       "2   0.351                    31  0      \n",
       "3   0.672                    32  1      \n",
       "4   0.167                    21  0      \n",
       "5   2.288                    33  1      \n",
       "6   0.201                    30  0      \n",
       "7   0.248                    26  1      \n",
       "8   0.134                    29  0      \n",
       "9   0.158                    53  1      \n",
       "10  0.232                    54  1      \n",
       "⋮   ⋮                        ⋮   ⋮      \n",
       "759 0.197                    26  0      \n",
       "760 0.278                    66  1      \n",
       "761 0.766                    22  0      \n",
       "762 0.403                    43  1      \n",
       "763 0.142                    33  0      \n",
       "764 0.171                    63  0      \n",
       "765 0.340                    27  0      \n",
       "766 0.245                    30  0      \n",
       "767 0.349                    47  1      \n",
       "768 0.315                    23  0      "
      ]
     },
     "metadata": {},
     "output_type": "display_data"
    },
    {
     "name": "stdout",
     "output_type": "stream",
     "text": [
      "[1] \"Table 1.0\"\n"
     ]
    }
   ],
   "source": [
    "data <- read_csv(\"https://raw.githubusercontent.com/npradaschnor/Pima-Indians-Diabetes-Dataset/master/diabetes.csv\")\n",
    "\n",
    "diabetes_data <- data |>\n",
    "mutate(Outcome = as_factor(Outcome))\n",
    "\n",
    "diabetes_data\n",
    "print(\"Table 1.0\")"
   ]
  },
  {
   "cell_type": "markdown",
   "id": "a5463110-04ac-48bf-b731-96158425ecd5",
   "metadata": {},
   "source": [
    "### Summarizing the Training Data"
   ]
  },
  {
   "cell_type": "markdown",
   "id": "812423d1-7947-4b4e-ba43-7a190a9c25ad",
   "metadata": {},
   "source": [
    "* As a result of our wrangling data step, we know that our data set contains a total of 768 usuable observations\n",
    "* We have decided to perform a random split of 0.75 so that 75 percent of the data is used as the training set and the remaining 25 percent is used as the testing set. This ensures that we have sufficient data to train our classifier and then evaluate its prediction accuracy.\n",
    "* Since <code>initial_split()</code> randomly samples the data set and we want our results to be reproducable, we use <code>set.seed()</code> to assign our result to the seed 1234."
   ]
  },
  {
   "cell_type": "code",
   "execution_count": 3,
   "id": "7a5b6286-2ab7-463a-8900-139ed5873838",
   "metadata": {
    "tags": []
   },
   "outputs": [],
   "source": [
    "set.seed(1234)\n",
    "diab_split <- initial_split(diabetes_data, prop = 0.75, strata = Outcome)\n",
    "diab_train <- training(diab_split)\n",
    "diab_test <- testing(diab_split)"
   ]
  },
  {
   "cell_type": "markdown",
   "id": "083ff5fc-5bb7-49eb-aaac-bfd351711d9d",
   "metadata": {},
   "source": [
    "* Our next step is to summarize our data into different tables for exploratory data analysis.  "
   ]
  },
  {
   "cell_type": "code",
   "execution_count": 4,
   "id": "22ab1e2d-4432-4581-8258-195bd121446b",
   "metadata": {
    "tags": []
   },
   "outputs": [
    {
     "data": {
      "text/html": [
       "<table class=\"dataframe\">\n",
       "<caption>A tibble: 2 × 2</caption>\n",
       "<thead>\n",
       "\t<tr><th scope=col>Outcome</th><th scope=col>n</th></tr>\n",
       "\t<tr><th scope=col>&lt;fct&gt;</th><th scope=col>&lt;int&gt;</th></tr>\n",
       "</thead>\n",
       "<tbody>\n",
       "\t<tr><td>0</td><td>375</td></tr>\n",
       "\t<tr><td>1</td><td>201</td></tr>\n",
       "</tbody>\n",
       "</table>\n"
      ],
      "text/latex": [
       "A tibble: 2 × 2\n",
       "\\begin{tabular}{ll}\n",
       " Outcome & n\\\\\n",
       " <fct> & <int>\\\\\n",
       "\\hline\n",
       "\t 0 & 375\\\\\n",
       "\t 1 & 201\\\\\n",
       "\\end{tabular}\n"
      ],
      "text/markdown": [
       "\n",
       "A tibble: 2 × 2\n",
       "\n",
       "| Outcome &lt;fct&gt; | n &lt;int&gt; |\n",
       "|---|---|\n",
       "| 0 | 375 |\n",
       "| 1 | 201 |\n",
       "\n"
      ],
      "text/plain": [
       "  Outcome n  \n",
       "1 0       375\n",
       "2 1       201"
      ]
     },
     "metadata": {},
     "output_type": "display_data"
    },
    {
     "name": "stdout",
     "output_type": "stream",
     "text": [
      "[1] \"Table 1.1\"\n"
     ]
    }
   ],
   "source": [
    "n_per_Outcome <- diab_train |>\n",
    "    group_by(Outcome) |> \n",
    "    summarize(n = n())\n",
    "n_per_Outcome\n",
    "print(\"Table 1.1\")"
   ]
  },
  {
   "cell_type": "markdown",
   "id": "edcc613b-6e86-442a-b56d-bac835c12f2b",
   "metadata": {},
   "source": [
    "* Table 1.1 displays the number of observations in each Outcome (1 or 0 where 1 means diabetic and 0 means not diabetic)\n",
    "* We were able to find the number of observations in each outcome by grouping the data by outcome using <code>group_by(Outcome)</code> and then counting the number of observations in each outcome using <code>summarize(n = n())</code>.\n",
    "* Table 1.1 shows that there are more patients without diabetes then with diabetes in our training set."
   ]
  },
  {
   "cell_type": "code",
   "execution_count": 5,
   "id": "c118453d-3303-4c55-a152-5977d75ff2c8",
   "metadata": {},
   "outputs": [
    {
     "data": {
      "text/html": [
       "<table class=\"dataframe\">\n",
       "<caption>A tibble: 2 × 2</caption>\n",
       "<thead>\n",
       "\t<tr><th scope=col>Outcome</th><th scope=col>Mean_Number_Of_Pregnancies</th></tr>\n",
       "\t<tr><th scope=col>&lt;fct&gt;</th><th scope=col>&lt;dbl&gt;</th></tr>\n",
       "</thead>\n",
       "<tbody>\n",
       "\t<tr><td>0</td><td>3.34400</td></tr>\n",
       "\t<tr><td>1</td><td>4.79602</td></tr>\n",
       "</tbody>\n",
       "</table>\n"
      ],
      "text/latex": [
       "A tibble: 2 × 2\n",
       "\\begin{tabular}{ll}\n",
       " Outcome & Mean\\_Number\\_Of\\_Pregnancies\\\\\n",
       " <fct> & <dbl>\\\\\n",
       "\\hline\n",
       "\t 0 & 3.34400\\\\\n",
       "\t 1 & 4.79602\\\\\n",
       "\\end{tabular}\n"
      ],
      "text/markdown": [
       "\n",
       "A tibble: 2 × 2\n",
       "\n",
       "| Outcome &lt;fct&gt; | Mean_Number_Of_Pregnancies &lt;dbl&gt; |\n",
       "|---|---|\n",
       "| 0 | 3.34400 |\n",
       "| 1 | 4.79602 |\n",
       "\n"
      ],
      "text/plain": [
       "  Outcome Mean_Number_Of_Pregnancies\n",
       "1 0       3.34400                   \n",
       "2 1       4.79602                   "
      ]
     },
     "metadata": {},
     "output_type": "display_data"
    },
    {
     "name": "stdout",
     "output_type": "stream",
     "text": [
      "[1] \"Table 1.2\"\n"
     ]
    }
   ],
   "source": [
    "Avg_Preg_Outcome <- diab_train |>\n",
    "    group_by(Outcome) |> \n",
    "    summarize(Mean_Number_Of_Pregnancies = mean(Pregnancies))\n",
    "Avg_Preg_Outcome\n",
    "print(\"Table 1.2\")"
   ]
  },
  {
   "cell_type": "markdown",
   "id": "9cb1ce2c-cfc6-4b05-9f48-0550de807d9d",
   "metadata": {},
   "source": [
    "* Table 1.2 reports the average number of pregnancies for diabetic and not diabetic patients\n",
    "* We found the average number of prenancies for each outcome by grouping the data set by outcome using <code>group_by(Outcome)</code> and then finding the mean number of pregnancies in each group using <code>summarize(Mean_Number_Of_Pregnancies = mean(Pregnancies))</code>.\n",
    "* Table 1.2 suggests that, on average, diabetic patients have more pregnancies than not diabetic patients."
   ]
  },
  {
   "cell_type": "code",
   "execution_count": 6,
   "id": "61f8ffb7-a3e4-43cf-b965-14d1e501ddea",
   "metadata": {},
   "outputs": [
    {
     "data": {
      "text/html": [
       "<table class=\"dataframe\">\n",
       "<caption>A tibble: 1 × 8</caption>\n",
       "<thead>\n",
       "\t<tr><th scope=col>Pregnancies</th><th scope=col>Glucose</th><th scope=col>BloodPressure</th><th scope=col>SkinThickness</th><th scope=col>Insulin</th><th scope=col>BMI</th><th scope=col>DiabetesPedigreeFunction</th><th scope=col>Age</th></tr>\n",
       "\t<tr><th scope=col>&lt;dbl&gt;</th><th scope=col>&lt;dbl&gt;</th><th scope=col>&lt;dbl&gt;</th><th scope=col>&lt;dbl&gt;</th><th scope=col>&lt;dbl&gt;</th><th scope=col>&lt;dbl&gt;</th><th scope=col>&lt;dbl&gt;</th><th scope=col>&lt;dbl&gt;</th></tr>\n",
       "</thead>\n",
       "<tbody>\n",
       "\t<tr><td>3.850694</td><td>121.1094</td><td>68.7934</td><td>20.41667</td><td>80.99479</td><td>31.96667</td><td>0.4716719</td><td>33.22743</td></tr>\n",
       "</tbody>\n",
       "</table>\n"
      ],
      "text/latex": [
       "A tibble: 1 × 8\n",
       "\\begin{tabular}{llllllll}\n",
       " Pregnancies & Glucose & BloodPressure & SkinThickness & Insulin & BMI & DiabetesPedigreeFunction & Age\\\\\n",
       " <dbl> & <dbl> & <dbl> & <dbl> & <dbl> & <dbl> & <dbl> & <dbl>\\\\\n",
       "\\hline\n",
       "\t 3.850694 & 121.1094 & 68.7934 & 20.41667 & 80.99479 & 31.96667 & 0.4716719 & 33.22743\\\\\n",
       "\\end{tabular}\n"
      ],
      "text/markdown": [
       "\n",
       "A tibble: 1 × 8\n",
       "\n",
       "| Pregnancies &lt;dbl&gt; | Glucose &lt;dbl&gt; | BloodPressure &lt;dbl&gt; | SkinThickness &lt;dbl&gt; | Insulin &lt;dbl&gt; | BMI &lt;dbl&gt; | DiabetesPedigreeFunction &lt;dbl&gt; | Age &lt;dbl&gt; |\n",
       "|---|---|---|---|---|---|---|---|\n",
       "| 3.850694 | 121.1094 | 68.7934 | 20.41667 | 80.99479 | 31.96667 | 0.4716719 | 33.22743 |\n",
       "\n"
      ],
      "text/plain": [
       "  Pregnancies Glucose  BloodPressure SkinThickness Insulin  BMI     \n",
       "1 3.850694    121.1094 68.7934       20.41667      80.99479 31.96667\n",
       "  DiabetesPedigreeFunction Age     \n",
       "1 0.4716719                33.22743"
      ]
     },
     "metadata": {},
     "output_type": "display_data"
    },
    {
     "name": "stdout",
     "output_type": "stream",
     "text": [
      "[1] \"Table 1.3\"\n"
     ]
    }
   ],
   "source": [
    "avg_pred_vals <- diab_train |>\n",
    "    select(-Outcome) |>\n",
    "    map_df(mean, na.rm = TRUE)\n",
    "avg_pred_vals\n",
    "print(\"Table 1.3\")\n",
    "\n"
   ]
  },
  {
   "cell_type": "markdown",
   "id": "5219d561-7810-44d7-ade5-b3f26af5015e",
   "metadata": {},
   "source": [
    "* Table 1.3 give the means of the predictor variables.\n",
    "* First we select all the predictor variables using <code>select(-Outcome)</code> and then use <code>map_df(mean)</code> to find the mean of each predictor variable. <code>Na.rm = TRUE</code> ensures that any empty cells are ignored."
   ]
  },
  {
   "cell_type": "code",
   "execution_count": 7,
   "id": "a8e6e204-e89e-4202-aa11-042d369d65a1",
   "metadata": {
    "tags": []
   },
   "outputs": [
    {
     "data": {
      "text/html": [
       "<table class=\"dataframe\">\n",
       "<caption>A tibble: 2 × 2</caption>\n",
       "<thead>\n",
       "\t<tr><th scope=col>Outcome</th><th scope=col>Mean_Age</th></tr>\n",
       "\t<tr><th scope=col>&lt;fct&gt;</th><th scope=col>&lt;dbl&gt;</th></tr>\n",
       "</thead>\n",
       "<tbody>\n",
       "\t<tr><td>0</td><td>31.28267</td></tr>\n",
       "\t<tr><td>1</td><td>36.85572</td></tr>\n",
       "</tbody>\n",
       "</table>\n"
      ],
      "text/latex": [
       "A tibble: 2 × 2\n",
       "\\begin{tabular}{ll}\n",
       " Outcome & Mean\\_Age\\\\\n",
       " <fct> & <dbl>\\\\\n",
       "\\hline\n",
       "\t 0 & 31.28267\\\\\n",
       "\t 1 & 36.85572\\\\\n",
       "\\end{tabular}\n"
      ],
      "text/markdown": [
       "\n",
       "A tibble: 2 × 2\n",
       "\n",
       "| Outcome &lt;fct&gt; | Mean_Age &lt;dbl&gt; |\n",
       "|---|---|\n",
       "| 0 | 31.28267 |\n",
       "| 1 | 36.85572 |\n",
       "\n"
      ],
      "text/plain": [
       "  Outcome Mean_Age\n",
       "1 0       31.28267\n",
       "2 1       36.85572"
      ]
     },
     "metadata": {},
     "output_type": "display_data"
    },
    {
     "name": "stdout",
     "output_type": "stream",
     "text": [
      "[1] \"Table 1.4\"\n"
     ]
    }
   ],
   "source": [
    "Ave_Age_Outcome <- diab_train |>\n",
    "    group_by(Outcome) |> \n",
    "    summarize(Mean_Age = mean(Age))\n",
    "Ave_Age_Outcome\n",
    "print(\"Table 1.4\")"
   ]
  },
  {
   "cell_type": "markdown",
   "id": "26291c32-b7f6-431b-a870-eeb99c28c33a",
   "metadata": {},
   "source": [
    "* Table 1.4 reports the average age of diabetic and not diabetic patients\n",
    "* We found the average age for each outcome by grouping the data set by outcome using <code>group_by(Outcome)</code> and then finding the mean age in each group using <code>summarize(Mean_Age = mean(Age))</code>.\n",
    "* Table 1.4 suggests that, on average, diabetic patients are older than not diabetic patients. However, the difference appears to be relatively small."
   ]
  },
  {
   "cell_type": "code",
   "execution_count": 8,
   "id": "a54ec251-7f80-4708-ac04-41d921b19834",
   "metadata": {},
   "outputs": [
    {
     "data": {
      "text/html": [
       "<table class=\"dataframe\">\n",
       "<caption>A tibble: 2 × 2</caption>\n",
       "<thead>\n",
       "\t<tr><th scope=col>Outcome</th><th scope=col>Mean_Diabetes_Pedigree_Function</th></tr>\n",
       "\t<tr><th scope=col>&lt;fct&gt;</th><th scope=col>&lt;dbl&gt;</th></tr>\n",
       "</thead>\n",
       "<tbody>\n",
       "\t<tr><td>0</td><td>0.4242427</td></tr>\n",
       "\t<tr><td>1</td><td>0.5601592</td></tr>\n",
       "</tbody>\n",
       "</table>\n"
      ],
      "text/latex": [
       "A tibble: 2 × 2\n",
       "\\begin{tabular}{ll}\n",
       " Outcome & Mean\\_Diabetes\\_Pedigree\\_Function\\\\\n",
       " <fct> & <dbl>\\\\\n",
       "\\hline\n",
       "\t 0 & 0.4242427\\\\\n",
       "\t 1 & 0.5601592\\\\\n",
       "\\end{tabular}\n"
      ],
      "text/markdown": [
       "\n",
       "A tibble: 2 × 2\n",
       "\n",
       "| Outcome &lt;fct&gt; | Mean_Diabetes_Pedigree_Function &lt;dbl&gt; |\n",
       "|---|---|\n",
       "| 0 | 0.4242427 |\n",
       "| 1 | 0.5601592 |\n",
       "\n"
      ],
      "text/plain": [
       "  Outcome Mean_Diabetes_Pedigree_Function\n",
       "1 0       0.4242427                      \n",
       "2 1       0.5601592                      "
      ]
     },
     "metadata": {},
     "output_type": "display_data"
    },
    {
     "name": "stdout",
     "output_type": "stream",
     "text": [
      "[1] \"Table 1.5\"\n"
     ]
    }
   ],
   "source": [
    "Avg_DPF_Outcome <- diab_train |>\n",
    "    group_by(Outcome) |> \n",
    "    summarize(Mean_Diabetes_Pedigree_Function = mean(DiabetesPedigreeFunction))\n",
    "Avg_DPF_Outcome\n",
    "print(\"Table 1.5\")"
   ]
  },
  {
   "cell_type": "markdown",
   "id": "98667157-c806-49e5-a8cb-8a6623ebe883",
   "metadata": {},
   "source": [
    "* Table 1.5 reports the average Diabetes Pedigree Function of diabetic and not diabetic patients\n",
    "* We found the average Diabetes Pedigree Function for each outcome by grouping the data set by outcome using <code>group_by(Outcome)</code> and then finding the mean Diabetes Pedigree Function in each group using <code>summarize(Mean_Diabetes_Pedigree_Function = mean(DiabetesPedigreeFunction))</code>.\n",
    "* Table 1.5 suggests that, on average, diabetic patients have a higher Diabetes Pedigree Function than not diabetic patients."
   ]
  },
  {
   "cell_type": "code",
   "execution_count": 9,
   "id": "51cb8f01-8f85-40b5-be8c-324a69a8918b",
   "metadata": {},
   "outputs": [
    {
     "data": {
      "text/html": [
       "<table class=\"dataframe\">\n",
       "<caption>A tibble: 2 × 2</caption>\n",
       "<thead>\n",
       "\t<tr><th scope=col>Outcome</th><th scope=col>Mean_Blood_Pressure</th></tr>\n",
       "\t<tr><th scope=col>&lt;fct&gt;</th><th scope=col>&lt;dbl&gt;</th></tr>\n",
       "</thead>\n",
       "<tbody>\n",
       "\t<tr><td>0</td><td>67.75200</td></tr>\n",
       "\t<tr><td>1</td><td>70.73632</td></tr>\n",
       "</tbody>\n",
       "</table>\n"
      ],
      "text/latex": [
       "A tibble: 2 × 2\n",
       "\\begin{tabular}{ll}\n",
       " Outcome & Mean\\_Blood\\_Pressure\\\\\n",
       " <fct> & <dbl>\\\\\n",
       "\\hline\n",
       "\t 0 & 67.75200\\\\\n",
       "\t 1 & 70.73632\\\\\n",
       "\\end{tabular}\n"
      ],
      "text/markdown": [
       "\n",
       "A tibble: 2 × 2\n",
       "\n",
       "| Outcome &lt;fct&gt; | Mean_Blood_Pressure &lt;dbl&gt; |\n",
       "|---|---|\n",
       "| 0 | 67.75200 |\n",
       "| 1 | 70.73632 |\n",
       "\n"
      ],
      "text/plain": [
       "  Outcome Mean_Blood_Pressure\n",
       "1 0       67.75200           \n",
       "2 1       70.73632           "
      ]
     },
     "metadata": {},
     "output_type": "display_data"
    },
    {
     "name": "stdout",
     "output_type": "stream",
     "text": [
      "[1] \"Table 1.6\"\n"
     ]
    }
   ],
   "source": [
    "Avg_BP_Outcome <- diab_train |>\n",
    "    group_by(Outcome) |> \n",
    "    summarize(Mean_Blood_Pressure = mean(BloodPressure))\n",
    "Avg_BP_Outcome\n",
    "print(\"Table 1.6\")"
   ]
  },
  {
   "cell_type": "markdown",
   "id": "ce6a9abf-61a3-4bdc-9c1c-f7b196c718cc",
   "metadata": {},
   "source": [
    "* Table 1.6 reports the average Blood Pressure of diabetic and not diabetic patients\n",
    "* We found the average Blood Pressure for each outcome by grouping the data set by outcome using <code>group_by(Outcome)</code> and then finding the mean Blood Pressure in each group using <code>summarize(Mean_Blood_Pressure = mean(BloodPressure))</code>.\n",
    "* Table 1.6 suggests that, on average, diabetic patients have a higher Blood Pressure than not diabetic patients. However, the difference appears to be relatively small."
   ]
  },
  {
   "cell_type": "markdown",
   "id": "02be5428-ed13-4489-b496-0012344a40b4",
   "metadata": {},
   "source": [
    "While there are differences in predictor variable statistics between diabetic and not diabetic pateints, to ensure that we produce the most accurate classifier we will conduct further analysis to determine the most significant predictors.  "
   ]
  },
  {
   "cell_type": "markdown",
   "id": "c281723b-cfaa-44d7-9838-939b2f377fc1",
   "metadata": {},
   "source": [
    "### Determining our Predictors"
   ]
  },
  {
   "cell_type": "markdown",
   "id": "04758757-4a6f-4e2f-a524-c09eb7c4d07c",
   "metadata": {},
   "source": [
    "* We begin our further data analysis by using forward selection to determine which variables from the training set will be used as predictor variables.\n",
    "* We do this to determine if there are any irrelevant variables in our data set that will negatively impact the classifier's accuracy.\n",
    "* Sincing determining our predictors is part of tuning our classifier we make sure to use our training set during forward selection.\n",
    "* The steps of forward selection are as follows:\n",
    "<ol>\n",
    "<li>Start with a model having no predictors. </li>\n",
    "<li>Run the following 3 steps until you run out of predictors: </li>\n",
    "<ol>\n",
    "    <li>For each unused predictor, add it to the model to form a candidate model.</li>\n",
    "    <li>Tune all of the candidate models.</li>\n",
    "    <li>Update the model to be the candidate model with the highest cross-validation accuracy.</li>\n",
    "    </ol>\n",
    "<li>Select the model that provides the best trade-off between accuracy and simplicity. </li>\n",
    "</ol>"
   ]
  },
  {
   "cell_type": "code",
   "execution_count": null,
   "id": "0fae5cf1-3cb4-4768-81f9-b1396e13eeab",
   "metadata": {},
   "outputs": [],
   "source": [
    "# we use set.seed(1234) to ensure that the random results that follow are reproducible\n",
    "set.seed(1234)\n",
    "\n",
    "diabetes_set <- diab_train\n",
    "\n",
    "names <- colnames(diabetes_set |>\n",
    "                   select(-Outcome))\n",
    "\n",
    "# create an empty tibble to store the results\n",
    "accuracies <- tibble(size = integer(), \n",
    "                     model_string = character(), \n",
    "                     accuracy = numeric())\n",
    "\n",
    "# create a model specification\n",
    "knn_spec <- nearest_neighbor(weight_func = \"rectangular\", \n",
    "                             neighbors = tune()) |>\n",
    "     set_engine(\"kknn\") |>\n",
    "     set_mode(\"classification\")\n",
    "\n",
    "# create a 5-fold cross-validation object\n",
    "diabetes_vfold <- vfold_cv(diabetes_set, v = 5, strata = Outcome)\n",
    "\n",
    "# store the total number of predictors\n",
    "n_total <- length(names)\n",
    "\n",
    "# stores selected predictors\n",
    "selected <- c()\n",
    "\n",
    "# for every size from 1 to the total number of predictors\n",
    "for (i in 1:n_total) {\n",
    "    # for every predictor still not added yet\n",
    "    accs <- list()\n",
    "    models <- list()\n",
    "    for (j in 1:length(names)) {\n",
    "        # create a model string for this combination of predictors\n",
    "        preds_new <- c(selected, names[[j]])\n",
    "        model_string <- paste(\"Outcome\", \"~\", paste(preds_new, collapse=\"+\"))\n",
    "\n",
    "        # create a recipe from the model string\n",
    "        diabetes_recipe <- recipe(as.formula(model_string), \n",
    "                                data = diabetes_set) |>\n",
    "                          step_scale(all_predictors()) |>\n",
    "                          step_center(all_predictors())\n",
    "\n",
    "        # tune the KNN classifier with these predictors, \n",
    "        # and collect the accuracy for the best K\n",
    "        acc <- workflow() |>\n",
    "          add_recipe(diabetes_recipe) |>\n",
    "          add_model(knn_spec) |>\n",
    "          tune_grid(resamples = diabetes_vfold, grid = 10) |>\n",
    "          collect_metrics() |>\n",
    "          filter(.metric == \"accuracy\") |>\n",
    "          summarize(mx = max(mean))\n",
    "        acc <- acc$mx |> unlist()\n",
    "\n",
    "        # add this result to the dataframe\n",
    "        accs[[j]] <- acc\n",
    "        models[[j]] <- model_string\n",
    "    }\n",
    "    jstar <- which.max(unlist(accs))\n",
    "    accuracies <- accuracies |> \n",
    "      add_row(size = i, \n",
    "              model_string = models[[jstar]], \n",
    "              accuracy = accs[[jstar]])\n",
    "    selected <- c(selected, names[[jstar]])\n",
    "    names <- names[-jstar]\n",
    "}\n",
    "accuracies\n",
    "print(\"Table 1.7\")"
   ]
  },
  {
   "cell_type": "markdown",
   "id": "8352289c-fd76-4b99-9583-7929173dc206",
   "metadata": {},
   "source": [
    "* Table 1.7 represents the accuracies of all the predictor variable models.\n",
    "* The accuracy of the model increases as meaningful predictors are added because the model is able to make better predictions. On the other hand, when irrelevant predictors are added the accuracy of the model decreases because the model is taking into account varibles that dont help with predictions.\n",
    "* Our goal when choosing the number of predictors is to find the middle ground between high accuracy and least number of predictor variables. We find this middle ground by looking for where the accuracy stops significantly increasing with each additional predictor. Thus we chose to use the predictor variables Glucose, Age, BMI, and Diabetes Pedigree Function for our model because the accuracy started to decrease as more predictors were added."
   ]
  },
  {
   "cell_type": "code",
   "execution_count": null,
   "id": "bbd1bd6c-b089-4ca0-9cd1-bfb1c816c631",
   "metadata": {},
   "outputs": [],
   "source": [
    "accuracy_plot <- ggplot(accuracies, aes(x = size, y = accuracy)) + \n",
    "geom_line() + \n",
    "theme(text = element_text(size = 20)) +\n",
    "labs(x = \"number of predictors\", y = \"model accuracy\")\n",
    "accuracy_plot\n",
    "print(\"Figure 1.0\")"
   ]
  },
  {
   "cell_type": "markdown",
   "id": "4201bca6-5e05-4343-8110-ce70dc5d2cbb",
   "metadata": {},
   "source": [
    "* Figure 1.0 displays how the model accuracy reaches its maximum at 4 predictors."
   ]
  },
  {
   "cell_type": "markdown",
   "id": "30c3f15d-31d0-465d-9da0-ec3478c877d4",
   "metadata": {},
   "source": [
    "## Distributions of best predictors"
   ]
  },
  {
   "cell_type": "code",
   "execution_count": null,
   "id": "a3830956-3fce-4233-9d09-35a10813b4aa",
   "metadata": {},
   "outputs": [],
   "source": [
    "plot_data <- diab_train |>\n",
    "select(Outcome, Glucose, Age, BMI, DiabetesPedigreeFunction)\n",
    "\n",
    "Glucose_plot <- plot_data |>\n",
    "ggplot(aes(x = Glucose)) + \n",
    "geom_histogram(bins = 30) +\n",
    "labs(x = \"Glucose tolerance \\n (two hour plasma glucose concentration after \\n 75g anhydrous glucose in mg/dl)\") +\n",
    "theme(text = element_text(size = 20))\n",
    "\n",
    "Age_plot <- plot_data |>\n",
    "ggplot(aes(x = Age)) + \n",
    "geom_histogram(bins = 30) +\n",
    "labs(x = \"Age (years)\") +\n",
    "theme(text = element_text(size = 20))\n",
    "\n",
    "BMI_plot <- plot_data |>\n",
    "ggplot(aes(x = BMI)) + \n",
    "geom_histogram(bins = 30) +\n",
    "labs(x = \"BMI (Body Mass Index)\") +\n",
    "theme(text = element_text(size = 20))\n",
    "\n",
    "DiabetesPedigreeFunction_plot <- plot_data |>\n",
    "ggplot(aes(x = DiabetesPedigreeFunction)) + \n",
    "geom_histogram(bins = 30) +\n",
    "labs(x = \"Pedigree diabetes function\") +\n",
    "theme(text = element_text(size = 20))\n",
    "\n",
    "Glucose_plot\n",
    "print(\"(Figure 1.1)\")\n",
    "Age_plot\n",
    "print(\"(Figure 1.2)\")\n",
    "BMI_plot\n",
    "print(\"(Figure 1.3)\")\n",
    "DiabetesPedigreeFunction_plot\n",
    "print(\"(Figure 1.4)\")"
   ]
  },
  {
   "cell_type": "markdown",
   "id": "c5651404-9fbb-4a74-acb8-eb2563a3be03",
   "metadata": {},
   "source": [
    "Distribution analysis of Figures 1.1 to 1.4\n",
    "* Glucose tolerance: slightly skewed right and unimodal.\n",
    "* Age: skewed right and unimodal.\n",
    "* BMI: bell-shaped, roughly symmetric, and unimodal.\n",
    "* Pedigree diabetes function: skewed right and unimodal."
   ]
  },
  {
   "cell_type": "markdown",
   "id": "d0cc6ecf-9f7f-46b2-8e9c-c877c0a53c8c",
   "metadata": {},
   "source": [
    "## Tunning the KNN classifier using cross-validation"
   ]
  },
  {
   "cell_type": "code",
   "execution_count": null,
   "id": "ee2171ae-4f7b-4ee7-b419-b040f7474d9a",
   "metadata": {},
   "outputs": [],
   "source": [
    "# we use set.seed(1234) to ensure that the random results that follow are reproducible\n",
    "set.seed(1234)\n",
    "\n",
    "# First we create the standardization recipe using the training data and the predictors Glucose, Age, BMI, Diabetes Pedigree Function.\n",
    "diabetes_recipe <- recipe(Outcome ~ Glucose + Age + BMI + DiabetesPedigreeFunction, data = diab_train) |>\n",
    "step_scale(all_predictors()) |>\n",
    "step_center(all_predictors())\n",
    "\n",
    "# Next we define the specification for our k-nn model using tune() as the neighbors argument because we are choosing the best k-value for our model.\n",
    "knn_spec <- nearest_neighbor(weight_func = \"rectangular\", neighbors = tune()) |>\n",
    "set_engine(\"kknn\") |>\n",
    "set_mode(\"classification\")\n",
    "\n",
    "# Next we fit the knn model.\n",
    "knn_fit <- workflow() |>\n",
    "add_recipe(diabetes_recipe) |>\n",
    "add_model(knn_spec) |>\n",
    "fit(data = diab_train)\n",
    "\n",
    "# Next we perform cross-validation with 10 folds.\n",
    "diabetes_vfold <- vfold_cv(diab_train, v = 10, strata = Outcome)\n",
    "\n",
    "# Next we create a tibble hold k-value 1 to 30.\n",
    "k_vals <- tibble(neighbors = seq(from = 1, to = 30, by = 1))\n",
    "\n",
    "# Next we use the k_vals tibble to test the accuracy of the model with 1 to 30 neighbors.\n",
    "knn_results <- workflow() |>\n",
    "add_recipe(diabetes_recipe) |>\n",
    "add_model(knn_spec) |>\n",
    "tune_grid(resamples = diabetes_vfold, grid = k_vals) |>\n",
    "collect_metrics() \n",
    "\n",
    "# Next we use filter() to only select the accuracy values for each k-value in knn_results\n",
    "accuracies <- knn_results |>\n",
    "filter(.metric == \"accuracy\")\n",
    "\n",
    "# Finally we create a graph of the accuracies plotted against the neighbors to determine the most accurate value of k. \n",
    "accuracy_vs_k <- ggplot(accuracies, aes(x = neighbors, y = mean)) +\n",
    "geom_point() +\n",
    "geom_line() +\n",
    "labs(x = \"Neighbors\", y = \"Accuracy Estimate\") + \n",
    "geom_vline(xintercept = 25, colour = \"red\") +\n",
    "theme(text = element_text(size = 20))\n",
    "\n",
    "accuracy_vs_k\n",
    "print(\"(Figure 1.5)\")\n",
    "# This visualization suggests that K=25 provides the highest and the most omptimal accuracy."
   ]
  },
  {
   "cell_type": "markdown",
   "id": "b573cff7-80ed-4e01-8390-199cfe29be05",
   "metadata": {},
   "source": [
    "* Figure 1.5 demonstrates that k = 25 is the best number of neighbors because its accuracy is greater than the others and the accuracy does not fall when we increase the neighbors by 1 and only slightly decreases when we decrease the neighbors by 1. "
   ]
  },
  {
   "cell_type": "markdown",
   "id": "fc3edd0e-d39a-425b-9cfa-bf26e69ce6a0",
   "metadata": {},
   "source": [
    "## KNN Classification with optimal K"
   ]
  },
  {
   "cell_type": "markdown",
   "id": "584b8987-cc7f-4cb1-a476-6a88c605456a",
   "metadata": {},
   "source": [
    "* Now we conduct KNN classification on the test set using our trained model"
   ]
  },
  {
   "cell_type": "code",
   "execution_count": null,
   "id": "9ae69171-518e-4db7-979b-e7460eaf8401",
   "metadata": {},
   "outputs": [],
   "source": [
    "# we use set.seed(1234) to ensure that the random results that follow are reproducible\n",
    "set.seed(1234)\n",
    "\n",
    "# First we define a new specification for our k-nn model using k = 25 as the neighbors argument  \n",
    "knn_spec_k25 <- nearest_neighbor(weight_func = \"rectangular\", neighbors = 25) |> \n",
    "    set_engine(\"kknn\") |> \n",
    "    set_mode(\"classification\")\n",
    "\n",
    "# Next we fit the knn model.\n",
    "diab_fit <- workflow() |>\n",
    "  add_recipe(diabetes_recipe) |>\n",
    "  add_model(knn_spec_k25) |>\n",
    "  fit(data = diab_train)\n",
    "\n",
    "# Next we use the knn model to make predictions for our test set and bind them to the test set.\n",
    "diab_predictions <- predict(diab_fit, diab_test) |> \n",
    "    bind_cols(diab_test)\n",
    "\n",
    "# Finally we compare the predictions to the actual outcomes to determine what percent the classifier predicted correctly.\n",
    "diab_acc <- diab_predictions |> \n",
    "    metrics(truth = Outcome, estimate = .pred_class) |> \n",
    "    select(.metric, .estimate) |>\n",
    "    head(1)\n",
    "\n",
    "diab_acc\n",
    "print(\"(Table 1.8)\")"
   ]
  },
  {
   "cell_type": "markdown",
   "id": "37b4acb8-5d95-4016-8da9-aab11b0c4659",
   "metadata": {},
   "source": [
    "* According to table 1.8, our classifier correctly predicted if a patient was diabetic or not for 79.17 percent of the cases in the test set."
   ]
  },
  {
   "cell_type": "markdown",
   "id": "eb335630-06dd-4e9b-b499-cbfb78ceca02",
   "metadata": {},
   "source": [
    "## Discussion"
   ]
  },
  {
   "cell_type": "markdown",
   "id": "644955e4-3836-4cc6-82c5-70d765f9d404",
   "metadata": {},
   "source": [
    "As our analysis above has shown, the best predictor variables for our model are glucose tolerance (two hour plasma glucose concentration after 75g anhydrous glucose in mg/dl), age (years), BMI (Body Mass Index), and pedigree diabetes function. As shown in Table 1.8, our classifier created using these variables has a 79.17 percent accuracy level, which is the highest among other predictors. Our team did not expect to these results as we were under the impression that the best preditcor variables were insulin (2 hour serum insulin in mu U/ml), age (years), and BMI (Body Mass Index), which is stated in our group proposal. However, after looking into the pedigree diabetes function further we found that it's a function that estimates the likelihood of diabetes based on family history, which is very relevant since the risk of diabetes increases by 30 percent if one parent was diabetic and by 70% if both parents were diabetic. This makes the pedigree diabtes function a very prominent variable when predicting if a patient is diabetic or not. Additionally, since diabetes in a condition that affects the body's ability to absorb glucose, it makes sense that glucose tolerance is a prominent variable. \n",
    "\n",
    "By wrangling and analyzing all the given variables in the dataset, our team was able to see the correlation between variables. The goal of our work is to provide medical professionals with an automated and accurate method of determining if a patient is diabetic. We hope that this will help relieve some of the pressure on the medical industry so that medical professionals have one less task to spend time on and will be able to spend that saved time assisting others. \n",
    "\n",
    "Potential future questions and researches that could result from our analysis are as follows:\n",
    "1. Would our model work if presented with an observation from a male patient? How would we adjust our data accordingly if not?\n",
    "2. Are there other more relevant predictor variables that weren't included in our data set?\n",
    "3. Could our model be used to diagnose other medical conditions such as Mastopathy?"
   ]
  },
  {
   "cell_type": "markdown",
   "id": "9614694a-5fa7-4443-a3f9-225e1714ef35",
   "metadata": {},
   "source": [
    "## References"
   ]
  },
  {
   "cell_type": "code",
   "execution_count": null,
   "id": "9165b917-d091-4b42-b41a-d05d4cb7905b",
   "metadata": {},
   "outputs": [],
   "source": []
  }
 ],
 "metadata": {
  "kernelspec": {
   "display_name": "R",
   "language": "R",
   "name": "ir"
  },
  "language_info": {
   "codemirror_mode": "r",
   "file_extension": ".r",
   "mimetype": "text/x-r-source",
   "name": "R",
   "pygments_lexer": "r",
   "version": "4.1.3"
  }
 },
 "nbformat": 4,
 "nbformat_minor": 5
}
