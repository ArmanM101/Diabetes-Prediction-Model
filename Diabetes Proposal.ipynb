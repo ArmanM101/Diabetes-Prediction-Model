{
 "cells": [
  {
   "cell_type": "markdown",
   "id": "ac2e1dae-f727-4a27-b8fe-356cf7f2e29a",
   "metadata": {},
   "source": [
    "# Predicting Diabetes Prognosis"
   ]
  },
  {
   "cell_type": "markdown",
   "id": "9d92ced1-8fb4-410f-b991-4951b6601ec0",
   "metadata": {},
   "source": [
    "## Introduction:"
   ]
  },
  {
   "cell_type": "markdown",
   "id": "0cdbf076-6bba-49e8-ac2c-bc5382399342",
   "metadata": {
    "tags": []
   },
   "source": [
    "Diabetes is a medical condition where the afflicted body is unable to create enough insulin to efficiently transform glucose into energy for the body's utilization. If left undiagnosed and untreated, diabetes can inflict serious harm to a person's heart and blood vessels, eyes, kidneys, nerves, gastrointestinal tract, and gums and teeth. Given the health risks of untreated diabetes, it is imperative that medical professionals have a method of diagnosing the condition as soon as possible. This lead us to our question: *Is it possible to diagnose diabetes in patients based on their medical factors? If so, what medical factors should we use to create the most accuracte predictive model?* To answer these questions, this project intends to create a k-nn classifier model that can predict whether or not a person is diabetic based on their medical factors. The data set that we will use to create this classifier is the Pima Indians Diabetes Dataset, which we obtained from https://github.com/npradaschnor/Pima-Indians-Diabetes-Dataset/blob/master/diabetes.csv. This dataset contains the health information of 768 women from Phoenix, Arizona. \n",
    "\n",
    "The dataset contains 9 columns:\n",
    "1) Outcome (1 is diabetic, 0 is not diabetic)\n",
    "2) Number of pregnancies\n",
    "3) Glucose tolerance (two hour plasma glucose concentration after 75g anhydrous glucose in mg/dl)\n",
    "4) Blood pressure (Diastolic BP in mmHg)\n",
    "5) Skin thickness (Triceps skin fold thickness in mm)\n",
    "6) Insulin (2 hour serum insulin in mu U/ml)\n",
    "7) BMI (Body Mass Index)\n",
    "8) Pedigree diabetes function\n",
    "9) Age (years)\n",
    "\n",
    "For our classifier, Diabetes diagnosis will be the target variable and we will choose the predictor variables using forward selection to ensure that we are using the combination of predictor variables that yields the best prediction accuracy."
   ]
  },
  {
   "cell_type": "markdown",
   "id": "139063fe-10cd-485d-a56f-ba157350d14e",
   "metadata": {},
   "source": [
    "## Methods and Results"
   ]
  },
  {
   "cell_type": "markdown",
   "id": "e46fc8c6-d186-49de-9b3b-0e613b29d69d",
   "metadata": {},
   "source": [
    "### Our Process"
   ]
  },
  {
   "cell_type": "markdown",
   "id": "1acc54df-a5d5-4528-8772-db8e108967b1",
   "metadata": {},
   "source": [
    "Below is an overview of our data analysis process (a more detailed explaination will be provided at each step)\n",
    "1) Read and Wrangle the dataset into a tidy dataset.\n",
    "2) Split the tidy dataset into a training and testing set. \n",
    "3) Use forward selection to find the combination of predictor variables with the highest prediction accuracy. \n",
    "4) Perform k-nearest neighbor classification with the best value of k found using cross-validation and predict the test set to get the final model accuracy validation.\n",
    "5) Describe our results and conclusion."
   ]
  },
  {
   "cell_type": "markdown",
   "id": "e0e5f74d-41f9-4790-acc2-b28c91efbe13",
   "metadata": {},
   "source": [
    "### Loading Relevant Libraries"
   ]
  },
  {
   "cell_type": "code",
   "execution_count": 1,
   "id": "366a8d7c-090a-43a6-b407-cde1699c3e75",
   "metadata": {},
   "outputs": [
    {
     "name": "stderr",
     "output_type": "stream",
     "text": [
      "── \u001b[1mAttaching packages\u001b[22m ─────────────────────────────────────── tidyverse 1.3.1 ──\n",
      "\n",
      "\u001b[32m✔\u001b[39m \u001b[34mggplot2\u001b[39m 3.3.6     \u001b[32m✔\u001b[39m \u001b[34mpurrr  \u001b[39m 0.3.4\n",
      "\u001b[32m✔\u001b[39m \u001b[34mtibble \u001b[39m 3.1.7     \u001b[32m✔\u001b[39m \u001b[34mdplyr  \u001b[39m 1.0.9\n",
      "\u001b[32m✔\u001b[39m \u001b[34mtidyr  \u001b[39m 1.2.0     \u001b[32m✔\u001b[39m \u001b[34mstringr\u001b[39m 1.4.0\n",
      "\u001b[32m✔\u001b[39m \u001b[34mreadr  \u001b[39m 2.1.2     \u001b[32m✔\u001b[39m \u001b[34mforcats\u001b[39m 0.5.1\n",
      "\n",
      "── \u001b[1mConflicts\u001b[22m ────────────────────────────────────────── tidyverse_conflicts() ──\n",
      "\u001b[31m✖\u001b[39m \u001b[34mdplyr\u001b[39m::\u001b[32mfilter()\u001b[39m masks \u001b[34mstats\u001b[39m::filter()\n",
      "\u001b[31m✖\u001b[39m \u001b[34mdplyr\u001b[39m::\u001b[32mlag()\u001b[39m    masks \u001b[34mstats\u001b[39m::lag()\n",
      "\n",
      "── \u001b[1mAttaching packages\u001b[22m ────────────────────────────────────── tidymodels 1.0.0 ──\n",
      "\n",
      "\u001b[32m✔\u001b[39m \u001b[34mbroom       \u001b[39m 1.0.0     \u001b[32m✔\u001b[39m \u001b[34mrsample     \u001b[39m 1.0.0\n",
      "\u001b[32m✔\u001b[39m \u001b[34mdials       \u001b[39m 1.0.0     \u001b[32m✔\u001b[39m \u001b[34mtune        \u001b[39m 1.0.0\n",
      "\u001b[32m✔\u001b[39m \u001b[34minfer       \u001b[39m 1.0.2     \u001b[32m✔\u001b[39m \u001b[34mworkflows   \u001b[39m 1.0.0\n",
      "\u001b[32m✔\u001b[39m \u001b[34mmodeldata   \u001b[39m 1.0.0     \u001b[32m✔\u001b[39m \u001b[34mworkflowsets\u001b[39m 1.0.0\n",
      "\u001b[32m✔\u001b[39m \u001b[34mparsnip     \u001b[39m 1.0.0     \u001b[32m✔\u001b[39m \u001b[34myardstick   \u001b[39m 1.0.0\n",
      "\u001b[32m✔\u001b[39m \u001b[34mrecipes     \u001b[39m 1.0.1     \n",
      "\n",
      "── \u001b[1mConflicts\u001b[22m ───────────────────────────────────────── tidymodels_conflicts() ──\n",
      "\u001b[31m✖\u001b[39m \u001b[34mscales\u001b[39m::\u001b[32mdiscard()\u001b[39m masks \u001b[34mpurrr\u001b[39m::discard()\n",
      "\u001b[31m✖\u001b[39m \u001b[34mdplyr\u001b[39m::\u001b[32mfilter()\u001b[39m   masks \u001b[34mstats\u001b[39m::filter()\n",
      "\u001b[31m✖\u001b[39m \u001b[34mrecipes\u001b[39m::\u001b[32mfixed()\u001b[39m  masks \u001b[34mstringr\u001b[39m::fixed()\n",
      "\u001b[31m✖\u001b[39m \u001b[34mdplyr\u001b[39m::\u001b[32mlag()\u001b[39m      masks \u001b[34mstats\u001b[39m::lag()\n",
      "\u001b[31m✖\u001b[39m \u001b[34myardstick\u001b[39m::\u001b[32mspec()\u001b[39m masks \u001b[34mreadr\u001b[39m::spec()\n",
      "\u001b[31m✖\u001b[39m \u001b[34mrecipes\u001b[39m::\u001b[32mstep()\u001b[39m   masks \u001b[34mstats\u001b[39m::step()\n",
      "\u001b[34m•\u001b[39m Search for functions across packages at \u001b[32mhttps://www.tidymodels.org/find/\u001b[39m\n",
      "\n"
     ]
    }
   ],
   "source": [
    "#RUN THIS CELL \n",
    "library(tidyverse)\n",
    "library(tidymodels)\n",
    "library(forcats)\n",
    "library(RColorBrewer)\n",
    "library(repr)\n",
    "library(ggplot2)\n",
    "library(knitr)\n",
    "options(repr.matrix.max.rows = 6)"
   ]
  },
  {
   "cell_type": "markdown",
   "id": "6160c89d-1968-45b5-b343-256b73f52712",
   "metadata": {},
   "source": [
    "### Read and wrangle the dataset from the web into jupyter as a tidy dataset"
   ]
  },
  {
   "cell_type": "markdown",
   "id": "26081f4a-d596-4d38-9046-3e15bcb00fe6",
   "metadata": {},
   "source": [
    "* We bring the data set from the web into Jupyter using <code>read_csv()</code>. \n",
    "* The Outcome column will be our target variable so we make it into a factor variable using <code>as_factor()</code>.\n",
    "* The resulting dataset is our wrangled <code>diabetes_data</code> with 768 usable observations."
   ]
  },
  {
   "cell_type": "code",
   "execution_count": 2,
   "id": "3d983306-ab5a-4121-9dcd-f66211221a48",
   "metadata": {},
   "outputs": [
    {
     "name": "stderr",
     "output_type": "stream",
     "text": [
      "\u001b[1mRows: \u001b[22m\u001b[34m768\u001b[39m \u001b[1mColumns: \u001b[22m\u001b[34m9\u001b[39m\n",
      "\u001b[36m──\u001b[39m \u001b[1mColumn specification\u001b[22m \u001b[36m────────────────────────────────────────────────────────\u001b[39m\n",
      "\u001b[1mDelimiter:\u001b[22m \",\"\n",
      "\u001b[32mdbl\u001b[39m (9): Pregnancies, Glucose, BloodPressure, SkinThickness, Insulin, BMI, D...\n",
      "\n",
      "\u001b[36mℹ\u001b[39m Use `spec()` to retrieve the full column specification for this data.\n",
      "\u001b[36mℹ\u001b[39m Specify the column types or set `show_col_types = FALSE` to quiet this message.\n"
     ]
    },
    {
     "data": {
      "text/html": [
       "<table class=\"dataframe\">\n",
       "<caption>A tibble: 768 × 9</caption>\n",
       "<thead>\n",
       "\t<tr><th scope=col>Pregnancies</th><th scope=col>Glucose</th><th scope=col>BloodPressure</th><th scope=col>SkinThickness</th><th scope=col>Insulin</th><th scope=col>BMI</th><th scope=col>DiabetesPedigreeFunction</th><th scope=col>Age</th><th scope=col>Outcome</th></tr>\n",
       "\t<tr><th scope=col>&lt;dbl&gt;</th><th scope=col>&lt;dbl&gt;</th><th scope=col>&lt;dbl&gt;</th><th scope=col>&lt;dbl&gt;</th><th scope=col>&lt;dbl&gt;</th><th scope=col>&lt;dbl&gt;</th><th scope=col>&lt;dbl&gt;</th><th scope=col>&lt;dbl&gt;</th><th scope=col>&lt;fct&gt;</th></tr>\n",
       "</thead>\n",
       "<tbody>\n",
       "\t<tr><td>6</td><td>148</td><td>72</td><td>35</td><td>0</td><td>33.6</td><td>0.627</td><td>50</td><td>1</td></tr>\n",
       "\t<tr><td>1</td><td> 85</td><td>66</td><td>29</td><td>0</td><td>26.6</td><td>0.351</td><td>31</td><td>0</td></tr>\n",
       "\t<tr><td>8</td><td>183</td><td>64</td><td> 0</td><td>0</td><td>23.3</td><td>0.672</td><td>32</td><td>1</td></tr>\n",
       "\t<tr><td>⋮</td><td>⋮</td><td>⋮</td><td>⋮</td><td>⋮</td><td>⋮</td><td>⋮</td><td>⋮</td><td>⋮</td></tr>\n",
       "\t<tr><td>5</td><td>121</td><td>72</td><td>23</td><td>112</td><td>26.2</td><td>0.245</td><td>30</td><td>0</td></tr>\n",
       "\t<tr><td>1</td><td>126</td><td>60</td><td> 0</td><td>  0</td><td>30.1</td><td>0.349</td><td>47</td><td>1</td></tr>\n",
       "\t<tr><td>1</td><td> 93</td><td>70</td><td>31</td><td>  0</td><td>30.4</td><td>0.315</td><td>23</td><td>0</td></tr>\n",
       "</tbody>\n",
       "</table>\n"
      ],
      "text/latex": [
       "A tibble: 768 × 9\n",
       "\\begin{tabular}{lllllllll}\n",
       " Pregnancies & Glucose & BloodPressure & SkinThickness & Insulin & BMI & DiabetesPedigreeFunction & Age & Outcome\\\\\n",
       " <dbl> & <dbl> & <dbl> & <dbl> & <dbl> & <dbl> & <dbl> & <dbl> & <fct>\\\\\n",
       "\\hline\n",
       "\t 6 & 148 & 72 & 35 & 0 & 33.6 & 0.627 & 50 & 1\\\\\n",
       "\t 1 &  85 & 66 & 29 & 0 & 26.6 & 0.351 & 31 & 0\\\\\n",
       "\t 8 & 183 & 64 &  0 & 0 & 23.3 & 0.672 & 32 & 1\\\\\n",
       "\t ⋮ & ⋮ & ⋮ & ⋮ & ⋮ & ⋮ & ⋮ & ⋮ & ⋮\\\\\n",
       "\t 5 & 121 & 72 & 23 & 112 & 26.2 & 0.245 & 30 & 0\\\\\n",
       "\t 1 & 126 & 60 &  0 &   0 & 30.1 & 0.349 & 47 & 1\\\\\n",
       "\t 1 &  93 & 70 & 31 &   0 & 30.4 & 0.315 & 23 & 0\\\\\n",
       "\\end{tabular}\n"
      ],
      "text/markdown": [
       "\n",
       "A tibble: 768 × 9\n",
       "\n",
       "| Pregnancies &lt;dbl&gt; | Glucose &lt;dbl&gt; | BloodPressure &lt;dbl&gt; | SkinThickness &lt;dbl&gt; | Insulin &lt;dbl&gt; | BMI &lt;dbl&gt; | DiabetesPedigreeFunction &lt;dbl&gt; | Age &lt;dbl&gt; | Outcome &lt;fct&gt; |\n",
       "|---|---|---|---|---|---|---|---|---|\n",
       "| 6 | 148 | 72 | 35 | 0 | 33.6 | 0.627 | 50 | 1 |\n",
       "| 1 |  85 | 66 | 29 | 0 | 26.6 | 0.351 | 31 | 0 |\n",
       "| 8 | 183 | 64 |  0 | 0 | 23.3 | 0.672 | 32 | 1 |\n",
       "| ⋮ | ⋮ | ⋮ | ⋮ | ⋮ | ⋮ | ⋮ | ⋮ | ⋮ |\n",
       "| 5 | 121 | 72 | 23 | 112 | 26.2 | 0.245 | 30 | 0 |\n",
       "| 1 | 126 | 60 |  0 |   0 | 30.1 | 0.349 | 47 | 1 |\n",
       "| 1 |  93 | 70 | 31 |   0 | 30.4 | 0.315 | 23 | 0 |\n",
       "\n"
      ],
      "text/plain": [
       "    Pregnancies Glucose BloodPressure SkinThickness Insulin BMI \n",
       "1   6           148     72            35            0       33.6\n",
       "2   1            85     66            29            0       26.6\n",
       "3   8           183     64             0            0       23.3\n",
       "⋮   ⋮           ⋮       ⋮             ⋮             ⋮       ⋮   \n",
       "766 5           121     72            23            112     26.2\n",
       "767 1           126     60             0              0     30.1\n",
       "768 1            93     70            31              0     30.4\n",
       "    DiabetesPedigreeFunction Age Outcome\n",
       "1   0.627                    50  1      \n",
       "2   0.351                    31  0      \n",
       "3   0.672                    32  1      \n",
       "⋮   ⋮                        ⋮   ⋮      \n",
       "766 0.245                    30  0      \n",
       "767 0.349                    47  1      \n",
       "768 0.315                    23  0      "
      ]
     },
     "metadata": {},
     "output_type": "display_data"
    },
    {
     "name": "stdout",
     "output_type": "stream",
     "text": [
      "[1] \"Table 1.0\"\n"
     ]
    }
   ],
   "source": [
    "data <- read_csv(\"https://raw.githubusercontent.com/npradaschnor/Pima-Indians-Diabetes-Dataset/master/diabetes.csv\")\n",
    "\n",
    "diabetes_data <- data |>\n",
    "mutate(Outcome = as_factor(Outcome))\n",
    "\n",
    "diabetes_data\n",
    "print(\"Table 1.0\")"
   ]
  },
  {
   "cell_type": "markdown",
   "id": "a5463110-04ac-48bf-b731-96158425ecd5",
   "metadata": {},
   "source": [
    "### Summarizing the Training Data"
   ]
  },
  {
   "cell_type": "markdown",
   "id": "812423d1-7947-4b4e-ba43-7a190a9c25ad",
   "metadata": {},
   "source": [
    "* As a result of our wrangling data step, we know that our data set contains a total of 768 usuable observations\n",
    "* We have decided to perform a random split of 0.75 so that 75 percent of the data is used as the training set and the remaining 25 percent is used as the testing set. This ensures that we have sufficient data to train our classifier and then evaluate its prediction accuracy.\n",
    "* Since <code>initial_split()</code> randomly samples the data set and we want our results to be reproducable, we use <code>set.seed()</code> to assign our result to the seed 1234."
   ]
  },
  {
   "cell_type": "code",
   "execution_count": 3,
   "id": "7a5b6286-2ab7-463a-8900-139ed5873838",
   "metadata": {
    "tags": []
   },
   "outputs": [],
   "source": [
    "set.seed(1234)\n",
    "diab_split <- initial_split(diabetes_data, prop = 0.75, strata = Outcome)\n",
    "diab_train <- training(diab_split)\n",
    "diab_test <- testing(diab_split)"
   ]
  },
  {
   "cell_type": "markdown",
   "id": "083ff5fc-5bb7-49eb-aaac-bfd351711d9d",
   "metadata": {},
   "source": [
    "* Our next step is to summarize our data into different tables for exploratory data analysis.  "
   ]
  },
  {
   "cell_type": "code",
   "execution_count": 4,
   "id": "22ab1e2d-4432-4581-8258-195bd121446b",
   "metadata": {
    "tags": []
   },
   "outputs": [
    {
     "data": {
      "text/html": [
       "<table class=\"dataframe\">\n",
       "<caption>A tibble: 2 × 2</caption>\n",
       "<thead>\n",
       "\t<tr><th scope=col>Outcome</th><th scope=col>n</th></tr>\n",
       "\t<tr><th scope=col>&lt;fct&gt;</th><th scope=col>&lt;int&gt;</th></tr>\n",
       "</thead>\n",
       "<tbody>\n",
       "\t<tr><td>0</td><td>375</td></tr>\n",
       "\t<tr><td>1</td><td>201</td></tr>\n",
       "</tbody>\n",
       "</table>\n"
      ],
      "text/latex": [
       "A tibble: 2 × 2\n",
       "\\begin{tabular}{ll}\n",
       " Outcome & n\\\\\n",
       " <fct> & <int>\\\\\n",
       "\\hline\n",
       "\t 0 & 375\\\\\n",
       "\t 1 & 201\\\\\n",
       "\\end{tabular}\n"
      ],
      "text/markdown": [
       "\n",
       "A tibble: 2 × 2\n",
       "\n",
       "| Outcome &lt;fct&gt; | n &lt;int&gt; |\n",
       "|---|---|\n",
       "| 0 | 375 |\n",
       "| 1 | 201 |\n",
       "\n"
      ],
      "text/plain": [
       "  Outcome n  \n",
       "1 0       375\n",
       "2 1       201"
      ]
     },
     "metadata": {},
     "output_type": "display_data"
    },
    {
     "name": "stdout",
     "output_type": "stream",
     "text": [
      "[1] \"Table 1.1\"\n"
     ]
    }
   ],
   "source": [
    "n_per_Outcome <- diab_train |>\n",
    "    group_by(Outcome) |> \n",
    "    summarize(n = n())\n",
    "n_per_Outcome\n",
    "print(\"Table 1.1\")"
   ]
  },
  {
   "cell_type": "markdown",
   "id": "edcc613b-6e86-442a-b56d-bac835c12f2b",
   "metadata": {},
   "source": [
    "* Table 1.1 displays the number of observations in each Outcome (1 or 0 where 1 means diabetic and 0 means not diabetic)\n",
    "* We were able to find the number of observations in each outcome by grouping the data by outcome using <code>group_by(Outcome)</code> and then counting the number of observations in each outcome using <code>summarize(n = n())</code>.\n",
    "* Table 1.1 shows that there are more not diabetic patients than diabetic patients in our training set."
   ]
  },
  {
   "cell_type": "code",
   "execution_count": 5,
   "id": "c118453d-3303-4c55-a152-5977d75ff2c8",
   "metadata": {},
   "outputs": [
    {
     "data": {
      "text/html": [
       "<table class=\"dataframe\">\n",
       "<caption>A tibble: 2 × 2</caption>\n",
       "<thead>\n",
       "\t<tr><th scope=col>Outcome</th><th scope=col>Mean_Number_Of_Pregnancies</th></tr>\n",
       "\t<tr><th scope=col>&lt;fct&gt;</th><th scope=col>&lt;dbl&gt;</th></tr>\n",
       "</thead>\n",
       "<tbody>\n",
       "\t<tr><td>0</td><td>3.34400</td></tr>\n",
       "\t<tr><td>1</td><td>4.79602</td></tr>\n",
       "</tbody>\n",
       "</table>\n"
      ],
      "text/latex": [
       "A tibble: 2 × 2\n",
       "\\begin{tabular}{ll}\n",
       " Outcome & Mean\\_Number\\_Of\\_Pregnancies\\\\\n",
       " <fct> & <dbl>\\\\\n",
       "\\hline\n",
       "\t 0 & 3.34400\\\\\n",
       "\t 1 & 4.79602\\\\\n",
       "\\end{tabular}\n"
      ],
      "text/markdown": [
       "\n",
       "A tibble: 2 × 2\n",
       "\n",
       "| Outcome &lt;fct&gt; | Mean_Number_Of_Pregnancies &lt;dbl&gt; |\n",
       "|---|---|\n",
       "| 0 | 3.34400 |\n",
       "| 1 | 4.79602 |\n",
       "\n"
      ],
      "text/plain": [
       "  Outcome Mean_Number_Of_Pregnancies\n",
       "1 0       3.34400                   \n",
       "2 1       4.79602                   "
      ]
     },
     "metadata": {},
     "output_type": "display_data"
    },
    {
     "name": "stdout",
     "output_type": "stream",
     "text": [
      "[1] \"Table 1.2\"\n"
     ]
    }
   ],
   "source": [
    "Avg_Preg_Outcome <- diab_train |>\n",
    "    group_by(Outcome) |> \n",
    "    summarize(Mean_Number_Of_Pregnancies = mean(Pregnancies))\n",
    "Avg_Preg_Outcome\n",
    "print(\"Table 1.2\")"
   ]
  },
  {
   "cell_type": "markdown",
   "id": "9cb1ce2c-cfc6-4b05-9f48-0550de807d9d",
   "metadata": {},
   "source": [
    "* Table 1.2 reports the average number of pregnancies for diabetic and not diabetic patients\n",
    "* We found the average number of prenancies for each outcome by grouping the data set by outcome using <code>group_by(Outcome)</code> and then finding the mean number of pregnancies in each group using <code>summarize(Mean_Number_Of_Pregnancies = mean(Pregnancies))</code>.\n",
    "* Table 1.2 suggests that, on average, diabetic patients have more pregnancies than not diabetic patients."
   ]
  },
  {
   "cell_type": "code",
   "execution_count": 6,
   "id": "61f8ffb7-a3e4-43cf-b965-14d1e501ddea",
   "metadata": {},
   "outputs": [
    {
     "data": {
      "text/html": [
       "<table class=\"dataframe\">\n",
       "<caption>A tibble: 1 × 8</caption>\n",
       "<thead>\n",
       "\t<tr><th scope=col>Pregnancies</th><th scope=col>Glucose</th><th scope=col>BloodPressure</th><th scope=col>SkinThickness</th><th scope=col>Insulin</th><th scope=col>BMI</th><th scope=col>DiabetesPedigreeFunction</th><th scope=col>Age</th></tr>\n",
       "\t<tr><th scope=col>&lt;dbl&gt;</th><th scope=col>&lt;dbl&gt;</th><th scope=col>&lt;dbl&gt;</th><th scope=col>&lt;dbl&gt;</th><th scope=col>&lt;dbl&gt;</th><th scope=col>&lt;dbl&gt;</th><th scope=col>&lt;dbl&gt;</th><th scope=col>&lt;dbl&gt;</th></tr>\n",
       "</thead>\n",
       "<tbody>\n",
       "\t<tr><td>3.850694</td><td>121.1094</td><td>68.7934</td><td>20.41667</td><td>80.99479</td><td>31.96667</td><td>0.4716719</td><td>33.22743</td></tr>\n",
       "</tbody>\n",
       "</table>\n"
      ],
      "text/latex": [
       "A tibble: 1 × 8\n",
       "\\begin{tabular}{llllllll}\n",
       " Pregnancies & Glucose & BloodPressure & SkinThickness & Insulin & BMI & DiabetesPedigreeFunction & Age\\\\\n",
       " <dbl> & <dbl> & <dbl> & <dbl> & <dbl> & <dbl> & <dbl> & <dbl>\\\\\n",
       "\\hline\n",
       "\t 3.850694 & 121.1094 & 68.7934 & 20.41667 & 80.99479 & 31.96667 & 0.4716719 & 33.22743\\\\\n",
       "\\end{tabular}\n"
      ],
      "text/markdown": [
       "\n",
       "A tibble: 1 × 8\n",
       "\n",
       "| Pregnancies &lt;dbl&gt; | Glucose &lt;dbl&gt; | BloodPressure &lt;dbl&gt; | SkinThickness &lt;dbl&gt; | Insulin &lt;dbl&gt; | BMI &lt;dbl&gt; | DiabetesPedigreeFunction &lt;dbl&gt; | Age &lt;dbl&gt; |\n",
       "|---|---|---|---|---|---|---|---|\n",
       "| 3.850694 | 121.1094 | 68.7934 | 20.41667 | 80.99479 | 31.96667 | 0.4716719 | 33.22743 |\n",
       "\n"
      ],
      "text/plain": [
       "  Pregnancies Glucose  BloodPressure SkinThickness Insulin  BMI     \n",
       "1 3.850694    121.1094 68.7934       20.41667      80.99479 31.96667\n",
       "  DiabetesPedigreeFunction Age     \n",
       "1 0.4716719                33.22743"
      ]
     },
     "metadata": {},
     "output_type": "display_data"
    },
    {
     "name": "stdout",
     "output_type": "stream",
     "text": [
      "[1] \"Table 1.3\"\n"
     ]
    }
   ],
   "source": [
    "avg_pred_vals <- diab_train |>\n",
    "    select(-Outcome) |>\n",
    "    map_df(mean, na.rm = TRUE)\n",
    "avg_pred_vals\n",
    "print(\"Table 1.3\")"
   ]
  },
  {
   "cell_type": "markdown",
   "id": "5219d561-7810-44d7-ade5-b3f26af5015e",
   "metadata": {},
   "source": [
    "* Table 1.3 give the means of the predictor variables.\n",
    "* First we select all the predictor variables using <code>select(-Outcome)</code> and then use <code>map_df(mean)</code> to find the mean of each predictor variable. <code>Na.rm = TRUE</code> ensures that any empty cells are ignored."
   ]
  },
  {
   "cell_type": "code",
   "execution_count": 7,
   "id": "a8e6e204-e89e-4202-aa11-042d369d65a1",
   "metadata": {
    "tags": []
   },
   "outputs": [
    {
     "data": {
      "text/html": [
       "<table class=\"dataframe\">\n",
       "<caption>A tibble: 2 × 2</caption>\n",
       "<thead>\n",
       "\t<tr><th scope=col>Outcome</th><th scope=col>Mean_Age</th></tr>\n",
       "\t<tr><th scope=col>&lt;fct&gt;</th><th scope=col>&lt;dbl&gt;</th></tr>\n",
       "</thead>\n",
       "<tbody>\n",
       "\t<tr><td>0</td><td>31.28267</td></tr>\n",
       "\t<tr><td>1</td><td>36.85572</td></tr>\n",
       "</tbody>\n",
       "</table>\n"
      ],
      "text/latex": [
       "A tibble: 2 × 2\n",
       "\\begin{tabular}{ll}\n",
       " Outcome & Mean\\_Age\\\\\n",
       " <fct> & <dbl>\\\\\n",
       "\\hline\n",
       "\t 0 & 31.28267\\\\\n",
       "\t 1 & 36.85572\\\\\n",
       "\\end{tabular}\n"
      ],
      "text/markdown": [
       "\n",
       "A tibble: 2 × 2\n",
       "\n",
       "| Outcome &lt;fct&gt; | Mean_Age &lt;dbl&gt; |\n",
       "|---|---|\n",
       "| 0 | 31.28267 |\n",
       "| 1 | 36.85572 |\n",
       "\n"
      ],
      "text/plain": [
       "  Outcome Mean_Age\n",
       "1 0       31.28267\n",
       "2 1       36.85572"
      ]
     },
     "metadata": {},
     "output_type": "display_data"
    },
    {
     "name": "stdout",
     "output_type": "stream",
     "text": [
      "[1] \"Table 1.4\"\n"
     ]
    }
   ],
   "source": [
    "Ave_Age_Outcome <- diab_train |>\n",
    "    group_by(Outcome) |> \n",
    "    summarize(Mean_Age = mean(Age))\n",
    "Ave_Age_Outcome\n",
    "print(\"Table 1.4\")"
   ]
  },
  {
   "cell_type": "markdown",
   "id": "26291c32-b7f6-431b-a870-eeb99c28c33a",
   "metadata": {},
   "source": [
    "* Table 1.4 reports the average age of diabetic and not diabetic patients\n",
    "* We found the average age for each outcome by grouping the data set by outcome using <code>group_by(Outcome)</code> and then finding the mean age in each group using <code>summarize(Mean_Age = mean(Age))</code>.\n",
    "* Table 1.4 suggests that, on average, diabetic patients are older than not diabetic patients. However, the difference appears to be relatively small."
   ]
  },
  {
   "cell_type": "code",
   "execution_count": 8,
   "id": "a54ec251-7f80-4708-ac04-41d921b19834",
   "metadata": {},
   "outputs": [
    {
     "data": {
      "text/html": [
       "<table class=\"dataframe\">\n",
       "<caption>A tibble: 2 × 2</caption>\n",
       "<thead>\n",
       "\t<tr><th scope=col>Outcome</th><th scope=col>Mean_Diabetes_Pedigree_Function</th></tr>\n",
       "\t<tr><th scope=col>&lt;fct&gt;</th><th scope=col>&lt;dbl&gt;</th></tr>\n",
       "</thead>\n",
       "<tbody>\n",
       "\t<tr><td>0</td><td>0.4242427</td></tr>\n",
       "\t<tr><td>1</td><td>0.5601592</td></tr>\n",
       "</tbody>\n",
       "</table>\n"
      ],
      "text/latex": [
       "A tibble: 2 × 2\n",
       "\\begin{tabular}{ll}\n",
       " Outcome & Mean\\_Diabetes\\_Pedigree\\_Function\\\\\n",
       " <fct> & <dbl>\\\\\n",
       "\\hline\n",
       "\t 0 & 0.4242427\\\\\n",
       "\t 1 & 0.5601592\\\\\n",
       "\\end{tabular}\n"
      ],
      "text/markdown": [
       "\n",
       "A tibble: 2 × 2\n",
       "\n",
       "| Outcome &lt;fct&gt; | Mean_Diabetes_Pedigree_Function &lt;dbl&gt; |\n",
       "|---|---|\n",
       "| 0 | 0.4242427 |\n",
       "| 1 | 0.5601592 |\n",
       "\n"
      ],
      "text/plain": [
       "  Outcome Mean_Diabetes_Pedigree_Function\n",
       "1 0       0.4242427                      \n",
       "2 1       0.5601592                      "
      ]
     },
     "metadata": {},
     "output_type": "display_data"
    },
    {
     "name": "stdout",
     "output_type": "stream",
     "text": [
      "[1] \"Table 1.5\"\n"
     ]
    }
   ],
   "source": [
    "Avg_DPF_Outcome <- diab_train |>\n",
    "    group_by(Outcome) |> \n",
    "    summarize(Mean_Diabetes_Pedigree_Function = mean(DiabetesPedigreeFunction))\n",
    "Avg_DPF_Outcome\n",
    "print(\"Table 1.5\")"
   ]
  },
  {
   "cell_type": "markdown",
   "id": "98667157-c806-49e5-a8cb-8a6623ebe883",
   "metadata": {},
   "source": [
    "* Table 1.5 reports the average Diabetes Pedigree Function of diabetic and not diabetic patients\n",
    "* We found the average Diabetes Pedigree Function for each outcome by grouping the data set by outcome using <code>group_by(Outcome)</code> and then finding the mean Diabetes Pedigree Function in each group using <code>summarize(Mean_Diabetes_Pedigree_Function = mean(DiabetesPedigreeFunction))</code>.\n",
    "* Table 1.5 suggests that, on average, diabetic patients have a higher Diabetes Pedigree Function than not diabetic patients."
   ]
  },
  {
   "cell_type": "code",
   "execution_count": 9,
   "id": "51cb8f01-8f85-40b5-be8c-324a69a8918b",
   "metadata": {},
   "outputs": [
    {
     "data": {
      "text/html": [
       "<table class=\"dataframe\">\n",
       "<caption>A tibble: 2 × 2</caption>\n",
       "<thead>\n",
       "\t<tr><th scope=col>Outcome</th><th scope=col>Mean_Blood_Pressure</th></tr>\n",
       "\t<tr><th scope=col>&lt;fct&gt;</th><th scope=col>&lt;dbl&gt;</th></tr>\n",
       "</thead>\n",
       "<tbody>\n",
       "\t<tr><td>0</td><td>67.75200</td></tr>\n",
       "\t<tr><td>1</td><td>70.73632</td></tr>\n",
       "</tbody>\n",
       "</table>\n"
      ],
      "text/latex": [
       "A tibble: 2 × 2\n",
       "\\begin{tabular}{ll}\n",
       " Outcome & Mean\\_Blood\\_Pressure\\\\\n",
       " <fct> & <dbl>\\\\\n",
       "\\hline\n",
       "\t 0 & 67.75200\\\\\n",
       "\t 1 & 70.73632\\\\\n",
       "\\end{tabular}\n"
      ],
      "text/markdown": [
       "\n",
       "A tibble: 2 × 2\n",
       "\n",
       "| Outcome &lt;fct&gt; | Mean_Blood_Pressure &lt;dbl&gt; |\n",
       "|---|---|\n",
       "| 0 | 67.75200 |\n",
       "| 1 | 70.73632 |\n",
       "\n"
      ],
      "text/plain": [
       "  Outcome Mean_Blood_Pressure\n",
       "1 0       67.75200           \n",
       "2 1       70.73632           "
      ]
     },
     "metadata": {},
     "output_type": "display_data"
    },
    {
     "name": "stdout",
     "output_type": "stream",
     "text": [
      "[1] \"Table 1.6\"\n"
     ]
    }
   ],
   "source": [
    "Avg_BP_Outcome <- diab_train |>\n",
    "    group_by(Outcome) |> \n",
    "    summarize(Mean_Blood_Pressure = mean(BloodPressure))\n",
    "Avg_BP_Outcome\n",
    "print(\"Table 1.6\")"
   ]
  },
  {
   "cell_type": "markdown",
   "id": "ce6a9abf-61a3-4bdc-9c1c-f7b196c718cc",
   "metadata": {},
   "source": [
    "* Table 1.6 reports the average Blood Pressure of diabetic and not diabetic patients\n",
    "* We found the average Blood Pressure for each outcome by grouping the data set by outcome using <code>group_by(Outcome)</code> and then finding the mean Blood Pressure in each group using <code>summarize(Mean_Blood_Pressure = mean(BloodPressure))</code>.\n",
    "* Table 1.6 suggests that, on average, diabetic patients have a higher Blood Pressure than not diabetic patients. However, the difference appears to be relatively small."
   ]
  },
  {
   "cell_type": "markdown",
   "id": "02be5428-ed13-4489-b496-0012344a40b4",
   "metadata": {},
   "source": [
    "While there are differences in predictor variable statistics between diabetic and not diabetic pateints, to ensure that we produce the most accurate classifier we will conduct further analysis to determine the most significant predictors.  "
   ]
  },
  {
   "cell_type": "markdown",
   "id": "c281723b-cfaa-44d7-9838-939b2f377fc1",
   "metadata": {},
   "source": [
    "### Determining our Predictors"
   ]
  },
  {
   "cell_type": "markdown",
   "id": "04758757-4a6f-4e2f-a524-c09eb7c4d07c",
   "metadata": {},
   "source": [
    "* We begin our further data analysis by using forward selection to determine which variables from the training set will be used as predictor variables.\n",
    "* We do this to determine if there are any irrelevant variables in our data set that will negatively impact the classifier's accuracy.\n",
    "* Sincing determining our predictors is part of tuning our classifier we make sure to use our training set during forward selection.\n",
    "* The steps of forward selection are as follows:\n",
    "<ol>\n",
    "<li>Start with a model having no predictors. </li>\n",
    "<li>Run the following 3 steps until you run out of predictors: </li>\n",
    "<ol>\n",
    "    <li>For each unused predictor, add it to the model to form a candidate model.</li>\n",
    "    <li>Tune all of the candidate models.</li>\n",
    "    <li>Update the model to be the candidate model with the highest cross-validation accuracy.</li>\n",
    "    </ol>\n",
    "<li>Select the model that provides the best trade-off between accuracy and simplicity. </li>\n",
    "</ol>"
   ]
  },
  {
   "cell_type": "code",
   "execution_count": 16,
   "id": "0fae5cf1-3cb4-4768-81f9-b1396e13eeab",
   "metadata": {},
   "outputs": [
    {
     "data": {
      "text/html": [
       "<table class=\"dataframe\">\n",
       "<caption>A tibble: 8 × 3</caption>\n",
       "<thead>\n",
       "\t<tr><th scope=col>size</th><th scope=col>model_string</th><th scope=col>accuracy</th></tr>\n",
       "\t<tr><th scope=col>&lt;int&gt;</th><th scope=col>&lt;chr&gt;</th><th scope=col>&lt;dbl&gt;</th></tr>\n",
       "</thead>\n",
       "<tbody>\n",
       "\t<tr><td>1</td><td>Outcome ~ Glucose        </td><td>0.7638981</td></tr>\n",
       "\t<tr><td>2</td><td>Outcome ~ Glucose+Age    </td><td>0.7552174</td></tr>\n",
       "\t<tr><td>3</td><td>Outcome ~ Glucose+Age+BMI</td><td>0.7604648</td></tr>\n",
       "\t<tr><td>⋮</td><td>⋮</td><td>⋮</td></tr>\n",
       "\t<tr><td>6</td><td>Outcome ~ Glucose+Age+BMI+DiabetesPedigreeFunction+Insulin+BloodPressure                          </td><td>0.7691004</td></tr>\n",
       "\t<tr><td>7</td><td>Outcome ~ Glucose+Age+BMI+DiabetesPedigreeFunction+Insulin+BloodPressure+SkinThickness            </td><td>0.7604648</td></tr>\n",
       "\t<tr><td>8</td><td>Outcome ~ Glucose+Age+BMI+DiabetesPedigreeFunction+Insulin+BloodPressure+SkinThickness+Pregnancies</td><td>0.7309895</td></tr>\n",
       "</tbody>\n",
       "</table>\n"
      ],
      "text/latex": [
       "A tibble: 8 × 3\n",
       "\\begin{tabular}{lll}\n",
       " size & model\\_string & accuracy\\\\\n",
       " <int> & <chr> & <dbl>\\\\\n",
       "\\hline\n",
       "\t 1 & Outcome \\textasciitilde{} Glucose         & 0.7638981\\\\\n",
       "\t 2 & Outcome \\textasciitilde{} Glucose+Age     & 0.7552174\\\\\n",
       "\t 3 & Outcome \\textasciitilde{} Glucose+Age+BMI & 0.7604648\\\\\n",
       "\t ⋮ & ⋮ & ⋮\\\\\n",
       "\t 6 & Outcome \\textasciitilde{} Glucose+Age+BMI+DiabetesPedigreeFunction+Insulin+BloodPressure                           & 0.7691004\\\\\n",
       "\t 7 & Outcome \\textasciitilde{} Glucose+Age+BMI+DiabetesPedigreeFunction+Insulin+BloodPressure+SkinThickness             & 0.7604648\\\\\n",
       "\t 8 & Outcome \\textasciitilde{} Glucose+Age+BMI+DiabetesPedigreeFunction+Insulin+BloodPressure+SkinThickness+Pregnancies & 0.7309895\\\\\n",
       "\\end{tabular}\n"
      ],
      "text/markdown": [
       "\n",
       "A tibble: 8 × 3\n",
       "\n",
       "| size &lt;int&gt; | model_string &lt;chr&gt; | accuracy &lt;dbl&gt; |\n",
       "|---|---|---|\n",
       "| 1 | Outcome ~ Glucose         | 0.7638981 |\n",
       "| 2 | Outcome ~ Glucose+Age     | 0.7552174 |\n",
       "| 3 | Outcome ~ Glucose+Age+BMI | 0.7604648 |\n",
       "| ⋮ | ⋮ | ⋮ |\n",
       "| 6 | Outcome ~ Glucose+Age+BMI+DiabetesPedigreeFunction+Insulin+BloodPressure                           | 0.7691004 |\n",
       "| 7 | Outcome ~ Glucose+Age+BMI+DiabetesPedigreeFunction+Insulin+BloodPressure+SkinThickness             | 0.7604648 |\n",
       "| 8 | Outcome ~ Glucose+Age+BMI+DiabetesPedigreeFunction+Insulin+BloodPressure+SkinThickness+Pregnancies | 0.7309895 |\n",
       "\n"
      ],
      "text/plain": [
       "  size\n",
       "1 1   \n",
       "2 2   \n",
       "3 3   \n",
       "⋮ ⋮   \n",
       "6 6   \n",
       "7 7   \n",
       "8 8   \n",
       "  model_string                                                                                      \n",
       "1 Outcome ~ Glucose                                                                                 \n",
       "2 Outcome ~ Glucose+Age                                                                             \n",
       "3 Outcome ~ Glucose+Age+BMI                                                                         \n",
       "⋮ ⋮                                                                                                 \n",
       "6 Outcome ~ Glucose+Age+BMI+DiabetesPedigreeFunction+Insulin+BloodPressure                          \n",
       "7 Outcome ~ Glucose+Age+BMI+DiabetesPedigreeFunction+Insulin+BloodPressure+SkinThickness            \n",
       "8 Outcome ~ Glucose+Age+BMI+DiabetesPedigreeFunction+Insulin+BloodPressure+SkinThickness+Pregnancies\n",
       "  accuracy \n",
       "1 0.7638981\n",
       "2 0.7552174\n",
       "3 0.7604648\n",
       "⋮ ⋮        \n",
       "6 0.7691004\n",
       "7 0.7604648\n",
       "8 0.7309895"
      ]
     },
     "metadata": {},
     "output_type": "display_data"
    }
   ],
   "source": [
    "# we use set.seed(1234) to ensure that the random results that follow are reproducible\n",
    "set.seed(1234)\n",
    "\n",
    "diabetes_set <- diab_train\n",
    "\n",
    "names <- colnames(diabetes_set |>\n",
    "                   select(-Outcome))\n",
    "\n",
    "# create an empty tibble to store the results\n",
    "accuracies <- tibble(size = integer(), \n",
    "                     model_string = character(), \n",
    "                     accuracy = numeric())\n",
    "\n",
    "# create a model specification\n",
    "knn_spec <- nearest_neighbor(weight_func = \"rectangular\", \n",
    "                             neighbors = tune()) |>\n",
    "     set_engine(\"kknn\") |>\n",
    "     set_mode(\"classification\")\n",
    "\n",
    "# create a 5-fold cross-validation object\n",
    "diabetes_vfold <- vfold_cv(diabetes_set, v = 5, strata = Outcome)\n",
    "\n",
    "# store the total number of predictors\n",
    "n_total <- length(names)\n",
    "\n",
    "# stores selected predictors\n",
    "selected <- c()\n",
    "\n",
    "# for every size from 1 to the total number of predictors\n",
    "for (i in 1:n_total) {\n",
    "    # for every predictor still not added yet\n",
    "    accs <- list()\n",
    "    models <- list()\n",
    "    for (j in 1:length(names)) {\n",
    "        # create a model string for this combination of predictors\n",
    "        preds_new <- c(selected, names[[j]])\n",
    "        model_string <- paste(\"Outcome\", \"~\", paste(preds_new, collapse=\"+\"))\n",
    "\n",
    "        # create a recipe from the model string\n",
    "        diabetes_recipe <- recipe(as.formula(model_string), \n",
    "                                data = diabetes_set) |>\n",
    "                          step_scale(all_predictors()) |>\n",
    "                          step_center(all_predictors())\n",
    "\n",
    "        # tune the KNN classifier with these predictors, \n",
    "        # and collect the accuracy for the best K\n",
    "        acc <- workflow() |>\n",
    "          add_recipe(diabetes_recipe) |>\n",
    "          add_model(knn_spec) |>\n",
    "          tune_grid(resamples = diabetes_vfold, grid = 10) |>\n",
    "          collect_metrics() |>\n",
    "          filter(.metric == \"accuracy\") |>\n",
    "          summarize(mx = max(mean))\n",
    "        acc <- acc$mx |> unlist()\n",
    "\n",
    "        # add this result to the dataframe\n",
    "        accs[[j]] <- acc\n",
    "        models[[j]] <- model_string\n",
    "    }\n",
    "    jstar <- which.max(unlist(accs))\n",
    "    accuracies <- accuracies |> \n",
    "      add_row(size = i, \n",
    "              model_string = models[[jstar]], \n",
    "              accuracy = accs[[jstar]])\n",
    "    selected <- c(selected, names[[jstar]])\n",
    "    names <- names[-jstar]\n",
    "}\n",
    "accuracies"
   ]
  },
  {
   "cell_type": "code",
   "execution_count": 17,
   "id": "bbd1bd6c-b089-4ca0-9cd1-bfb1c816c631",
   "metadata": {},
   "outputs": [
    {
     "data": {
      "image/png": "[encoded data removed]",
      "text/plain": [
       "plot without title"
      ]
     },
     "metadata": {
      "image/png": {
       "height": 420,
       "width": 420
      }
     },
     "output_type": "display_data"
    }
   ],
   "source": [
    "accuracy_plot <- ggplot(accuracies, aes(x = size, y = accuracy)) + \n",
    "geom_line()\n",
    "accuracy_plot"
   ]
  },
  {
   "cell_type": "code",
   "execution_count": null,
   "id": "a3830956-3fce-4233-9d09-35a10813b4aa",
   "metadata": {},
   "outputs": [],
   "source": []
  }
 ],
 "metadata": {
  "kernelspec": {
   "display_name": "R",
   "language": "R",
   "name": "ir"
  },
  "language_info": {
   "codemirror_mode": "r",
   "file_extension": ".r",
   "mimetype": "text/x-r-source",
   "name": "R",
   "pygments_lexer": "r",
   "version": "4.1.3"
  }
 },
 "nbformat": 4,
 "nbformat_minor": 5
}
